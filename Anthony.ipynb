{
 "cells": [
  {
   "attachments": {},
   "cell_type": "markdown",
   "id": "9196b968-b77c-4939-b14e-71e9692570bf",
   "metadata": {},
   "source": [
    "# Introduction\n",
    "\r\n",
    "The RMS Titanic, often remembered as a symbol of early 20th-century maritime ambition, tragically became an enduring emblem of disaster and human loss. Launched in 1912, the Titanic was celebrated as the largest and most luxurious ocean liner of its time, a marvel of engineering and opulence. Its first voyage from Southampton to New York City was a highly anticipated event, a true worldwide spectacle\r\n"
   ]
  },
  {
   "cell_type": "markdown",
   "id": "b03dfd12-cbbf-4d55-9f23-f391121eadf6",
   "metadata": {},
   "source": [
    "However, this inaugural journey abruptly turned into one of history's most poignant tragedies. On the night of April 14, 1912, the Titanic struck a massive iceberg in the North Atlantic Ocean. The collision resulted in ship's sinking in the early hours of April 15, leading to many casualties, such as over 1,500 lost lives, from a total of over 2,200 passengers and crew. This catastrophic event shocked the world, highlighting the fallibility of even the most advanced technological achievements and leading to significant improvements in maritime safety regulations.\n",
    "The Titanic dataset, a compilation of passenger and crew information, serves as a gateway to understanding this historic event through the lens of data analysis. It provides details such as passenger class, age, gender, family size, ticket fare, and embarkation point, offering a snapshot of the socio-economic diversity aboard the ill-fated vessel. By analyzing this dataset, we can glean insights into how these variables may have influenced the chances of survival during the disaster."
   ]
  },
  {
   "attachments": {},
   "cell_type": "markdown",
   "id": "ba00613b-5956-47f0-9b6d-d91ec8da8362",
   "metadata": {},
   "source": [
    "# Data Exploration and Analysis\n",
    "\r\n",
    "In the data exploration and cleaning phase for the Titanic dataset analysis, we start by importing necessary libraries and loading the dataset using pandas. Thepds.read_csv() function is utilized to import the Titanic data into a DataFrame, allowing for easy manipulation and analysis.\r\n"
   ]
  },
  {
   "cell_type": "code",
   "execution_count": 1,
   "id": "3a274ee6-bbc3-4ee0-845d-7499d1429c16",
   "metadata": {},
   "outputs": [],
   "source": [
    "import pandas as pd\n",
    "\n",
    "# Load the dataset\n",
    "titanic_data = pd.read_csv('titanic.csv')"
   ]
  },
  {
   "attachments": {},
   "cell_type": "markdown",
   "id": "9582ca6f-ff47-4171-9031-5cd8ab2742e1",
   "metadata": {},
   "source": [
    "Initially, a thorough examination of the dataset is conducted using functions like df.head() for a preview of the data and pd.info() to understand data types and identify columns with missing values. The pd.describe() function provides a statistical summary of numerical columns, offering insights into distributions and potential outliers."
   ]
  },
  {
   "attachments": {},
   "cell_type": "markdown",
   "id": "fbd08679-ed7a-4a11-970d-829bad540444",
   "metadata": {},
   "source": [
    "Addressing missing values is a critical part of data cleaning. For instance, the 'Age' column often has missing values. Filling these gaps with the median age (pd['Age'].fillna(df['Age'].median(), inplace=True)) is a common strategy, as it preserves the overall distribution. Similarly, missing values in categorical columns like 'Embarked' can be filled with the mode (pd['Embarked'].fillna(pd['Embarked'].mode()[0], inplace=True))."
   ]
  },
  {
   "cell_type": "code",
   "execution_count": 2,
   "id": "7c57b5a6-6d88-4358-b232-711845f0f502",
   "metadata": {},
   "outputs": [],
   "source": [
    "# Handling missing values\n",
    "# Option 1: Fill missing 'Age' values with the median age\n",
    "titanic_data['Age'].fillna(titanic_data['Age'].median(), inplace=True)\n",
    "# Create a new column 'CabinAvailable' before dropping the 'Cabin' column\n",
    "titanic_data['CabinAvailable'] = titanic_data['Cabin'].apply(lambda x: 0 if pd.isnull(x) else 1)\n",
    "# Option 2: Drop the 'Cabin' column due to a high number of missing values\n",
    "titanic_data.drop('Cabin', axis=1, inplace=True)\n",
    "# Option 3: Fill missing 'Embarked' values with the mode (most common value)\n",
    "titanic_data['Embarked'].fillna(titanic_data['Embarked'].mode()[0], inplace=True)"
   ]
  },
  {
   "attachments": {},
   "cell_type": "markdown",
   "id": "2afbeaa8-938a-41e3-b0da-3640ac8ba6dc",
   "metadata": {},
   "source": [
    "Additionally, transforming categorical variables into a numerical format is essential for certain types of analysis. This is achieved using techniques like one-hot encoding or label encoding. For example, the 'Sex' column, which contains gender information, can be converted using a mapping function: pd['Sex'] = pd['Sex'].map({'male': 0, 'female': 1})."
   ]
  },
  {
   "cell_type": "code",
   "execution_count": 3,
   "id": "6a7b9431-8aa4-4f6f-abbc-461607e49c7e",
   "metadata": {},
   "outputs": [],
   "source": [
    "# Data type conversion\n",
    "# Convert 'Sex' to a categorical variable\n",
    "titanic_data['Sex'] = titanic_data['Sex'].astype('category')\n",
    "\n",
    "# Convert 'Embarked' to a categorical variable\n",
    "titanic_data['Embarked'] = titanic_data['Embarked'].astype('category')\n",
    "\n",
    "# Feature engineering\n",
    "# Creating a new feature 'FamilySize'\n",
    "titanic_data['FamilySize'] = titanic_data['SibSp'] + titanic_data['Parch']\n",
    "\n",
    "# Categorizing 'Age' into groups (Optional)\n",
    "bins = [0, 12, 18, 35, 60, 80]\n",
    "labels = ['Child', 'Teenager', 'Young Adult', 'Adult', 'Senior']\n",
    "titanic_data['AgeGroup'] = pd.cut(titanic_data['Age'], bins=bins, labels=labels, right=False)\n"
   ]
  },
  {
   "attachments": {},
   "cell_type": "markdown",
   "id": "4f73777e-7d99-40a0-bc2a-11dd75b2cca7",
   "metadata": {},
   "source": [
    "## Exploratory Data Analysis\r\n",
    "1.\tData Overview: The Titanic dataset includes various features like Passenger Class (Pclass), Name, Sex, Age, Siblings/Spouses Aboard (SibSp), Parents/Children Aboard (Parch), Ticket Number, Fare, Cabin, and Embarkation Point (Embarked). The target variable is Survival, indicating whether a passenger survived the disaster.\r\n"
   ]
  },
  {
   "cell_type": "code",
   "execution_count": 4,
   "id": "1222f512-40f6-446b-81f6-4c1ba69b7ff7",
   "metadata": {},
   "outputs": [
    {
     "name": "stdout",
     "output_type": "stream",
     "text": [
      "   PassengerId  Survived  Pclass  \\\n",
      "0            1         0       3   \n",
      "1            2         1       1   \n",
      "2            3         1       3   \n",
      "3            4         1       1   \n",
      "4            5         0       3   \n",
      "\n",
      "                                                Name     Sex   Age  SibSp  \\\n",
      "0                            Braund, Mr. Owen Harris    male  22.0      1   \n",
      "1  Cumings, Mrs. John Bradley (Florence Briggs Th...  female  38.0      1   \n",
      "2                             Heikkinen, Miss. Laina  female  26.0      0   \n",
      "3       Futrelle, Mrs. Jacques Heath (Lily May Peel)  female  35.0      1   \n",
      "4                           Allen, Mr. William Henry    male  35.0      0   \n",
      "\n",
      "   Parch            Ticket     Fare Embarked  CabinAvailable  FamilySize  \\\n",
      "0      0         A/5 21171   7.2500        S               0           1   \n",
      "1      0          PC 17599  71.2833        C               1           1   \n",
      "2      0  STON/O2. 3101282   7.9250        S               0           0   \n",
      "3      0            113803  53.1000        S               1           1   \n",
      "4      0            373450   8.0500        S               0           0   \n",
      "\n",
      "      AgeGroup  \n",
      "0  Young Adult  \n",
      "1        Adult  \n",
      "2  Young Adult  \n",
      "3        Adult  \n",
      "4        Adult  \n"
     ]
    }
   ],
   "source": [
    "# Display the cleaned dataset\n",
    "print(titanic_data.head())"
   ]
  },
  {
   "cell_type": "markdown",
   "id": "27f2b722-57c1-4a51-8a72-b5cff709afe1",
   "metadata": {},
   "source": [
    "2.\tFeature Analysis:\n",
    "    1. Passenger Class (Pclass): Analysis of this categorical variable can reveal the socio-economic distribution of passengers and its impact on survival rates.\n",
    "    2. Sex and Age: Investigating these features helps in understanding demographic patterns and their influence on survival. Visualizations like bar graphs for gender-based survival and age histograms provide clear insights.\n",
    "    3. Family Size: Combining SibSp and Parch to create a 'Family Size' feature can show the effect of traveling with family on survival.\n",
    "3. Correlation with Survival: Analyzing how different features correlate with the survival rate is key. For instance, higher survival rates among women and children, and variations in survival rates across different passenger classes.\n",
    "4. Data Visualization: Utilizing plots such as histograms, bar charts, and box plots helps in visualizing the distribution of various features and their relationship with survival. For example, a bar chart showing the survival rate across different classes or a box plot of ages in different Pclass categories.\n",
    "\n"
   ]
  },
  {
   "cell_type": "code",
   "execution_count": 5,
   "id": "c3bf346f-9f49-4372-9fa8-35568d6dd886",
   "metadata": {},
   "outputs": [
    {
     "data": {
      "image/png": "[encoded data removed]",
      "text/plain": [
       "<Figure size 800x500 with 1 Axes>"
      ]
     },
     "metadata": {},
     "output_type": "display_data"
    }
   ],
   "source": [
    "import matplotlib.pyplot as plt\n",
    "import seaborn as sns\n",
    "\n",
    "# Setting the aesthetic style of the plots\n",
    "sns.set_style(\"whitegrid\")\n",
    "\n",
    "# Plotting the distribution of passenger classes\n",
    "plt.figure(figsize=(8, 5))\n",
    "sns.countplot(x='Pclass', data=titanic_data)\n",
    "plt.title('Distribution of Passenger Classes')\n",
    "plt.xlabel('Passenger Class')\n",
    "plt.ylabel('Count')\n",
    "plt.show()\n"
   ]
  },
  {
   "cell_type": "code",
   "execution_count": 6,
   "id": "f1a73127-bbb4-4b84-924a-97e56d1e03c6",
   "metadata": {},
   "outputs": [
    {
     "data": {
      "image/png": "[encoded data removed]",
      "text/plain": [
       "<Figure size 800x500 with 1 Axes>"
      ]
     },
     "metadata": {},
     "output_type": "display_data"
    }
   ],
   "source": [
    "# Plotting survival rate by gender\n",
    "plt.figure(figsize=(8, 5))\n",
    "sns.barplot(x='Sex', y='Survived', data=titanic_data)\n",
    "plt.title('Survival Rate by Gender')\n",
    "plt.xlabel('Gender')\n",
    "plt.ylabel('Survival Rate')\n",
    "plt.show()\n"
   ]
  },
  {
   "cell_type": "code",
   "execution_count": 7,
   "id": "078572fe-7028-461e-916b-6003f1c3de05",
   "metadata": {},
   "outputs": [
    {
     "data": {
      "image/png": "[encoded data removed]",
      "text/plain": [
       "<Figure size 800x500 with 1 Axes>"
      ]
     },
     "metadata": {},
     "output_type": "display_data"
    }
   ],
   "source": [
    "# Histogram for age distribution\n",
    "plt.figure(figsize=(8, 5))\n",
    "sns.histplot(titanic_data['Age'], bins=30, kde=False)\n",
    "plt.title('Age Distribution among Passengers')\n",
    "plt.xlabel('Age')\n",
    "plt.ylabel('Count')\n",
    "plt.show()\n"
   ]
  },
  {
   "attachments": {},
   "cell_type": "markdown",
   "id": "47e2f2a3-8eb7-4f22-8dbf-850d325f8a05",
   "metadata": {},
   "source": [
    "5.\tStatistical Insights: Applying statistical measures to quantify relationships and differences observed in the data. For example, calculating the mean and median of ages in different survival groups, or performing chi-squared tests to assess the significance of observed patterns.\r\n",
    "6.\tOutliers and Anomalies: Identifying and interpreting any outliers or anomalies in the data, such as unusually high fares or ages, which could indicate data entry errors or require special consideration\r\n"
   ]
  },
  {
   "attachments": {},
   "cell_type": "markdown",
   "id": "66ba4e65-4d8d-48e5-b9db-dffe1fe75cea",
   "metadata": {},
   "source": [
    "Queries\r\n",
    "\r\n",
    "Q- How did survival rates differ between different passenger classes?\r\n"
   ]
  },
  {
   "cell_type": "code",
   "execution_count": 8,
   "id": "ab69c590-e355-4545-968b-061e62d86c3c",
   "metadata": {},
   "outputs": [
    {
     "name": "stdout",
     "output_type": "stream",
     "text": [
      "Pclass\n",
      "1    0.629630\n",
      "2    0.472826\n",
      "3    0.242363\n",
      "Name: Survived, dtype: float64\n",
      "Sex\n",
      "female    0.742038\n",
      "male      0.188908\n",
      "Name: Survived, dtype: float64\n",
      "AgeGroup\n",
      "Child          0.573529\n",
      "Teenager       0.488889\n",
      "Young Adult    0.344383\n",
      "Adult          0.416268\n",
      "Senior         0.240000\n",
      "Name: Survived, dtype: float64\n"
     ]
    },
    {
     "name": "stderr",
     "output_type": "stream",
     "text": [
      "/tmp/ipykernel_8205/3787010155.py:5: FutureWarning: The default of observed=False is deprecated and will be changed to True in a future version of pandas. Pass observed=False to retain current behavior or observed=True to adopt the future default and silence this warning.\n",
      "  print(titanic_data.groupby('Sex')['Survived'].mean())\n",
      "/tmp/ipykernel_8205/3787010155.py:8: FutureWarning: The default of observed=False is deprecated and will be changed to True in a future version of pandas. Pass observed=False to retain current behavior or observed=True to adopt the future default and silence this warning.\n",
      "  print(titanic_data.groupby('AgeGroup')['Survived'].mean())\n"
     ]
    }
   ],
   "source": [
    "# Survival rate by passenger class\n",
    "print(titanic_data.groupby('Pclass')['Survived'].mean())\n",
    "\n",
    "# Survival rate by gender\n",
    "print(titanic_data.groupby('Sex')['Survived'].mean())\n",
    "\n",
    "# Survival rate by age groups\n",
    "print(titanic_data.groupby('AgeGroup')['Survived'].mean())\n"
   ]
  },
  {
   "attachments": {},
   "cell_type": "markdown",
   "id": "95c13c8e-c4b4-4e74-b6b9-8e20c61ddb0d",
   "metadata": {},
   "source": [
    "Q- Did family size impact survival chances?!"
   ]
  },
  {
   "cell_type": "code",
   "execution_count": 9,
   "id": "01b40a49-f94a-4819-bce3-64df3dfa11c9",
   "metadata": {},
   "outputs": [
    {
     "name": "stdout",
     "output_type": "stream",
     "text": [
      "FamilySize\n",
      "0     0.303538\n",
      "1     0.552795\n",
      "2     0.578431\n",
      "3     0.724138\n",
      "4     0.200000\n",
      "5     0.136364\n",
      "6     0.333333\n",
      "7     0.000000\n",
      "10    0.000000\n",
      "Name: Survived, dtype: float64\n"
     ]
    }
   ],
   "source": [
    "# Survival rate by family size\n",
    "print(titanic_data.groupby('FamilySize')['Survived'].mean())"
   ]
  },
  {
   "attachments": {},
   "cell_type": "markdown",
   "id": "fd6322fd-0391-41d3-804e-4f3982ec89fe",
   "metadata": {},
   "source": [
    "QQ- How did the point of embarkation relate to survival rates?"
   ]
  },
  {
   "cell_type": "code",
   "execution_count": 10,
   "id": "fb3b3655-eaf3-4fb5-b435-885a9896963d",
   "metadata": {},
   "outputs": [
    {
     "name": "stdout",
     "output_type": "stream",
     "text": [
      "Embarked\n",
      "C    0.553571\n",
      "Q    0.389610\n",
      "S    0.339009\n",
      "Name: Survived, dtype: float64\n"
     ]
    },
    {
     "name": "stderr",
     "output_type": "stream",
     "text": [
      "/tmp/ipykernel_8205/1260500636.py:2: FutureWarning: The default of observed=False is deprecated and will be changed to True in a future version of pandas. Pass observed=False to retain current behavior or observed=True to adopt the future default and silence this warning.\n",
      "  print(titanic_data.groupby('Embarked')['Survived'].mean())\n"
     ]
    }
   ],
   "source": [
    "# Survival rate by point of embarkation\n",
    "print(titanic_data.groupby('Embarked')['Survived'].mean())"
   ]
  },
  {
   "attachments": {},
   "cell_type": "markdown",
   "id": "0df14e6c-7695-40c6-b30d-60bb0cac71d3",
   "metadata": {},
   "source": [
    "Q- Was there a correlation between fare price and survival?!"
   ]
  },
  {
   "cell_type": "code",
   "execution_count": 11,
   "id": "deeabacf-ea69-43a6-882b-0c206a0e89c0",
   "metadata": {},
   "outputs": [
    {
     "name": "stdout",
     "output_type": "stream",
     "text": [
      "              Fare  Survived\n",
      "Fare      1.000000  0.257307\n",
      "Survived  0.257307  1.000000\n"
     ]
    }
   ],
   "source": [
    "# Correlation between fare and survival\n",
    "print(titanic_data[['Fare', 'Survived']].corr())"
   ]
  },
  {
   "attachments": {},
   "cell_type": "markdown",
   "id": "34d3c316-5549-42c9-89ce-6b7b9f63b4a4",
   "metadata": {},
   "source": [
    "Q- How did age and sex together influence survival odds?"
   ]
  },
  {
   "cell_type": "code",
   "execution_count": 12,
   "id": "18ad63d7-5413-4280-8c9f-7fc51e53c7a2",
   "metadata": {},
   "outputs": [
    {
     "name": "stdout",
     "output_type": "stream",
     "text": [
      "Sex     AgeGroup   \n",
      "female  Child          0.593750\n",
      "        Teenager       0.826087\n",
      "        Young Adult    0.730337\n",
      "        Adult          0.792208\n",
      "        Senior         1.000000\n",
      "male    Child          0.555556\n",
      "        Teenager       0.136364\n",
      "        Young Adult    0.156164\n",
      "        Adult          0.196970\n",
      "        Senior         0.095238\n",
      "Name: Survived, dtype: float64\n"
     ]
    },
    {
     "name": "stderr",
     "output_type": "stream",
     "text": [
      "/tmp/ipykernel_8205/151907265.py:2: FutureWarning: The default of observed=False is deprecated and will be changed to True in a future version of pandas. Pass observed=False to retain current behavior or observed=True to adopt the future default and silence this warning.\n",
      "  print(titanic_data.groupby(['Sex', 'AgeGroup'])['Survived'].mean())\n"
     ]
    }
   ],
   "source": [
    "# Survival rate by age and gender\n",
    "print(titanic_data.groupby(['Sex', 'AgeGroup'])['Survived'].mean())\n"
   ]
  },
  {
   "attachments": {},
   "cell_type": "markdown",
   "id": "b9e75631-b15c-47da-9120-6cc190f03dd5",
   "metadata": {},
   "source": [
    "Q- Did the presence of cabins (cabin data availability) affect survival rates?"
   ]
  },
  {
   "cell_type": "code",
   "execution_count": 13,
   "id": "d3d95a36-1bb6-42a5-8b22-7aaa085b1492",
   "metadata": {},
   "outputs": [
    {
     "name": "stdout",
     "output_type": "stream",
     "text": [
      "CabinAvailable\n",
      "0    0.299854\n",
      "1    0.666667\n",
      "Name: Survived, dtype: float64\n"
     ]
    }
   ],
   "source": [
    "# Survival rate based on cabin availability\n",
    "print(titanic_data.groupby('CabinAvailable')['Survived'].mean())"
   ]
  },
  {
   "cell_type": "markdown",
   "id": "21bb3252-d265-4061-bf60-155243dceca0",
   "metadata": {},
   "source": [
    "Q- What was the distribution of passengers by age, gender, and class?"
   ]
  },
  {
   "cell_type": "code",
   "execution_count": 14,
   "id": "52266327-7dab-4365-9563-6b41068b8c37",
   "metadata": {},
   "outputs": [
    {
     "name": "stdout",
     "output_type": "stream",
     "text": [
      "AgeGroup\n",
      "Young Adult    543\n",
      "Adult          209\n",
      "Child           68\n",
      "Teenager        45\n",
      "Senior          25\n",
      "Name: count, dtype: int64\n",
      "Sex\n",
      "male      577\n",
      "female    314\n",
      "Name: count, dtype: int64\n",
      "Pclass\n",
      "3    491\n",
      "1    216\n",
      "2    184\n",
      "Name: count, dtype: int64\n"
     ]
    }
   ],
   "source": [
    "# Distribution of passengers by age\n",
    "print(titanic_data['AgeGroup'].value_counts())\n",
    "\n",
    "# Distribution of passengers by gender\n",
    "print(titanic_data['Sex'].value_counts())\n",
    "\n",
    "# Distribution of passengers by class\n",
    "print(titanic_data['Pclass'].value_counts())\n"
   ]
  },
  {
   "cell_type": "markdown",
   "id": "cfc73813-f2fa-4cfd-b1c4-264c8efbac55",
   "metadata": {},
   "source": [
    "## In-depth analysis\n",
    "\n",
    "Data cleaning also involves feature engineering, where new relevant features are created from existing data. An example is creating a 'FamilySize' feature by summing 'SibSp' (number of siblings/spouses aboard) and 'Parch' (number of parents/children aboard).\n",
    "The cleaned and preprocessed dataset is then ready for exploratory data analysis, where we can delve deeper into understanding the relationships between different variables and their impact on survival rates. This preparatory step is crucial for any subsequent statistical analysis or predictive modeling.\n",
    "\n",
    "1.\tDataset Composition: The dataset contains 891 entries with 12 columns. These columns are Passenger, Survived, Pclass (Passenger Class), Name, Sex, Age, SibSp (Siblings/Spouses Aboard), Parch (Parents/Children Aboard), Ticket, Fare, Cabin, and Embarked (Port of Embarkation).\n",
    "2.\tMissing Values: There are missing values in the Age, Cabin, and Embarked columns. Specifically:\n",
    "•\tAge has 714 out of 891 non-null entries, suggesting a need for imputation or handling of missing data.\n",
    "•\tCabin has a significant amount of missing data, with only 204 non-null entries. This might limit its use in analysis unless the missing data is addressed.\n",
    "•\tEmbarked has 889 non-null entries, indicating only a few missing values.\n",
    "3.\tStatistical Overview:\n",
    "•\tSurvived: The mean survival rate is approximately 38.4%, indicating that less than half of the passengers in this dataset survived.\n",
    "•\tPclass: The mean passenger class is around 2.3, suggesting a slightly higher number of passengers in the lower classes (2nd and 3rd).\n",
    "•\tAge: The average age of passengers is about 29.7 years, with a standard deviation of 14.5 years. The age range is broad, from 0.42 to 80 years.\n",
    "•\tSibSp and Parch: Most passengers did not travel with siblings, spouses, parents, or children. This suggests that a large number of passengers were traveling alone.\n",
    "•\tFare: There is a wide range in ticket fares, from 0 to 512.33, with a mean fare of about 32.20. This variation in fare might correlate with passenger class.\n"
   ]
  },
  {
   "cell_type": "markdown",
   "id": "c6656d3d-0e1e-4376-a473-831eabb0aaac",
   "metadata": {},
   "source": [
    "## Conclusion\n",
    "The analysis of the Titanic dataset provides insightful revelations about the socio-economic and demographic factors influencing survival rates during the tragic maritime disaster. Key findings indicate that passenger class had a significant impact on survival chances, with first-class passengers enjoying higher survival rates, likely due to better access to lifeboats and emergency resources. Gender played a crucial role, as women had markedly higher survival rates, reflecting the era's societal norms and the \"women and children first\" policy during the evacuation process.\n",
    "Age was another determining factor, where children and younger passengers had a higher likelihood of survival compared to older passengers. This could be attributed to prioritization in rescue efforts. Family size also influenced survival odds, with those having small to medium-sized families faring better than those traveling alone or with large families.\n",
    "Additionally, the fare paid and embarkation point emerged as significant variables, suggesting a link between economic status, point of origin, and survival probability.\n",
    "These insights not only shed light on the human aspects of the Titanic disaster but also illustrate broader social themes of inequality and privilege. The analysis serves as a poignant reminder of how, even in times of crisis, social hierarchies and human biases can profoundly impact outcomes\n"
   ]
  },
  {
   "cell_type": "markdown",
   "id": "fbc0afe8-2a96-480e-9d83-72bdb3e938c4",
   "metadata": {},
   "source": [
    "## Project Roles"
   ]
  },
  {
   "cell_type": "markdown",
   "id": "21606169-9617-45d6-ad26-f56b9227ecb5",
   "metadata": {},
   "source": [
    "Data Analyst & Researcher:\n",
    "\n",
    "Team Member: Imisha Juneja"
   ]
  },
  {
   "cell_type": "markdown",
   "id": "8c6ada0f-2d01-4298-a0bc-92cba7318091",
   "metadata": {},
   "source": [
    "Responsibilities:\n",
    "* Identify and download the Titanic dataset.\n",
    "* Research the context and historical significance of the data.\n",
    "* Develop 6-10 meaningful questions that the analysis aims to answer.\n",
    "* Gather additional resources and references that might provide insights or comparative data."
   ]
  },
  {
   "attachments": {},
   "cell_type": "markdown",
   "id": "e96f585b-877d-4795-99e7-2e0b6d055237",
   "metadata": {},
   "source": [
    "Skills Needed: Good research skills, ability to formulate insightful questions, basic understanding of the dataset's context."
   ]
  },
  {
   "attachments": {},
   "cell_type": "markdown",
   "id": "4f7770b6-1aca-4998-9249-abade773807b",
   "metadata": {},
   "source": [
    "Data Engineer (Preprocessing & Cleaning):\r\n",
    "\r\n",
    "Team Member: Anthony Aguilar\r\n"
   ]
  },
  {
   "cell_type": "markdown",
   "id": "c43377a0-2c80-4f59-b69f-1efbc90fd1ad",
   "metadata": {},
   "source": [
    "Responsibilities:\n",
    "\n",
    "* Load the dataset into a Pandas DataFrame.\n",
    "* Perform data cleaning and preprocessing, such as handling missing values, outlier detection, and data normalization.\n",
    "* Document the preprocessing steps and rationale.\n"
   ]
  },
  {
   "attachments": {},
   "cell_type": "markdown",
   "id": "d944d618-f116-4d53-b9c5-9adccc1cd353",
   "metadata": {},
   "source": [
    "Skills Needed: Proficiency in Python, especially with Pandas and NumPy, diligence, understanding of data cleaning techniques."
   ]
  },
  {
   "attachments": {},
   "cell_type": "markdown",
   "id": "277d3eaf-8f96-408e-a2c8-99d53f49de55",
   "metadata": {},
   "source": [
    "Storyteller & Writer (Insights & Communication):\r\n",
    "\r\n",
    "Team Member: Brad Love\r\n"
   ]
  },
  {
   "cell_type": "markdown",
   "id": "54036d4a-a036-4175-ad39-467d9f7e60da",
   "metadata": {},
   "source": [
    "Responsibilities:\n",
    "\n",
    "* Analyze the results from the queries and draw insights.\n",
    "* Craft a narrative or story that communicates these insights in an engaging and understandable manner.\n",
    "* Write the Markdown prose for the tutorial, ensuring it connects well with the code and visualizations.\n",
    "* Oversee the publication of the GitHub Pages.\n"
   ]
  },
  {
   "attachments": {},
   "cell_type": "markdown",
   "id": "f9f2c60a-e4d6-4c18-a46c-68b4ccbb6db7",
   "metadata": {},
   "source": [
    "Skills Needed: Strong writing skills, ability to translate data insights into stories, basic understanding of Git and GitHub Pages, knack for simplifying complex information."
   ]
  },
  {
   "attachments": {},
   "cell_type": "markdown",
   "id": "6e5e1dd4-102b-4a56-b673-d29959aa4900",
   "metadata": {},
   "source": [
    "Project Manager (PM):\n",
    "\n",
    "Team Member Rishi Nair"
   ]
  },
  {
   "cell_type": "markdown",
   "id": "ce85696a-03fc-4203-a91b-7e474cf02fd0",
   "metadata": {},
   "source": [
    "Responsibilities:\n",
    "\n",
    "* Supervise all responsibilities on this project and provide general help in all regards\n",
    "* Handled all communicatory actions that the group needed (Schedules meeting times, assigned roles to members, etc.)\n",
    "* Work to counteract or mitigate any issue the group ran into as soon as possible"
   ]
  },
  {
   "attachments": {},
   "cell_type": "markdown",
   "id": "a9af5e19-f598-422a-aeae-78f8582ec79e",
   "metadata": {},
   "source": [
    "Skills Needed: Communication, Organization, Management Skills, Cooperation, Teamwork, ability to get everyone in the group onto one page at all times"
   ]
  },
  {
   "cell_type": "code",
   "execution_count": null,
   "id": "791cbc2b-5288-4ad6-a25d-f5d9717c0b79",
   "metadata": {},
   "outputs": [],
   "source": []
  }
 ],
 "metadata": {
  "kernelspec": {
   "display_name": "Python 3 (ipykernel)",
   "language": "python",
   "name": "python3"
  },
  "language_info": {
   "codemirror_mode": {
    "name": "ipython",
    "version": 3
   },
   "file_extension": ".py",
   "mimetype": "text/x-python",
   "name": "python",
   "nbconvert_exporter": "python",
   "pygments_lexer": "ipython3",
   "version": "3.10.13"
  }
 },
 "nbformat": 4,
 "nbformat_minor": 5
}
