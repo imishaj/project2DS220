{
 "cells": [
  {
   "attachments": {},
   "cell_type": "markdown",
   "id": "9196b968-b77c-4939-b14e-71e9692570bf",
   "metadata": {},
   "source": [
<<<<<<< HEAD
    "# Introduction\n",
    "\n",
    "The RMS Titanic, often remembered as a symbol of early 20th-century maritime ambition, tragically became an enduring emblem of disaster and human loss. Launched in 1912, the Titanic was celebrated as the largest and most luxurious ocean liner of its time, a marvel of engineering and opulence. Its first voyage from Southampton to New York City was a highly anticipated event, a true worldwide spectacle\n"
=======
    "Introduction\n",
    "\r\n",
    "The RMS Titanic, often remembered as a symbol of early 20th-century maritime ambition, tragically became an enduring emblem of disaster and human loss. Launched in 1912, the Titanic was celebrated as the largest and most luxurious ocean liner of its time, a marvel of engineering and opulence. Its first voyage from Southampton to New York City was a highly anticipated event, a true worldwide spectacle\r\n"
>>>>>>> 16b61be8ca5d57a590425fe16ef7e24a523d0fb6
   ]
  },
  {
   "cell_type": "markdown",
   "id": "b03dfd12-cbbf-4d55-9f23-f391121eadf6",
   "metadata": {},
   "source": [
    "However, this inaugural journey abruptly turned into one of history's most poignant tragedies. On the night of April 14, 1912, the Titanic struck a massive iceberg in the North Atlantic Ocean. The collision resulted in ship's sinking in the early hours of April 15, leading to many casualties, such as over 1,500 lost lives, from a total of over 2,200 passengers and crew. This catastrophic event shocked the world, highlighting the fallibility of even the most advanced technological achievements and leading to significant improvements in maritime safety regulations.\n",
    "The Titanic dataset, a compilation of passenger and crew information, serves as a gateway to understanding this historic event through the lens of data analysis. It provides details such as passenger class, age, gender, family size, ticket fare, and embarkation point, offering a snapshot of the socio-economic diversity aboard the ill-fated vessel. By analyzing this dataset, we can glean insights into how these variables may have influenced the chances of survival during the disaster."
   ]
  },
  {
   "attachments": {},
   "cell_type": "markdown",
   "id": "ba00613b-5956-47f0-9b6d-d91ec8da8362",
   "metadata": {},
   "source": [
<<<<<<< HEAD
    "# Data Exploration and Analysis\n",
    "\n",
    "In the data exploration and cleaning phase for the Titanic dataset analysis, we start by importing necessary libraries and loading the dataset using pandas. Thepds.read_csv() function is utilized to import the Titanic data into a DataFrame, allowing for easy manipulation and analysis.\n"
=======
    "Data Exploration and Analysis\n",
    "\r\n",
    "In the data exploration and cleaning phase for the Titanic dataset analysis, we start by importing necessary libraries and loading the dataset using pandas. Thepds.read_csv() function is utilized to import the Titanic data into a DataFrame, allowing for easy manipulation and analysis.\r\n"
   ]
  },
  {
   "cell_type": "code",
   "execution_count": 1,
   "id": "3a274ee6-bbc3-4ee0-845d-7499d1429c16",
   "metadata": {},
   "outputs": [],
   "source": [
    "import pandas as pd\n",
    "\n",
    "# Load the dataset\n",
    "titanic_data = pd.read_csv('titanic.csv')"
   ]
  },
  {
   "attachments": {},
   "cell_type": "markdown",
   "id": "9582ca6f-ff47-4171-9031-5cd8ab2742e1",
   "metadata": {},
   "source": [
    "Initially, a thorough examination of the dataset is conducted using functions like df.head() for a preview of the data and pd.info() to understand data types and identify columns with missing values. The pd.describe() function provides a statistical summary of numerical columns, offering insights into distributions and potential outliers."
>>>>>>> 16b61be8ca5d57a590425fe16ef7e24a523d0fb6
   ]
  },
  {
   "cell_type": "code",
<<<<<<< HEAD
   "execution_count": 3,
   "id": "3a274ee6-bbc3-4ee0-845d-7499d1429c16",
   "metadata": {},
   "outputs": [],
   "source": [
    "import pandas as pd\n",
    "\n",
    "# Load the dataset\n",
    "titanic_data = pd.read_csv('titanic.csv')"
   ]
  },
  {
   "attachments": {},
   "cell_type": "markdown",
   "id": "9582ca6f-ff47-4171-9031-5cd8ab2742e1",
   "metadata": {},
   "source": [
    "Initially, a thorough examination of the dataset is conducted using functions like df.head() for a preview of the data and pd.info() to understand data types and identify columns with missing values. The pd.describe() function provides a statistical summary of numerical columns, offering insights into distributions and potential outliers."
   ]
  },
  {
   "cell_type": "code",
   "execution_count": 4,
=======
   "execution_count": 2,
>>>>>>> 16b61be8ca5d57a590425fe16ef7e24a523d0fb6
   "id": "7c57b5a6-6d88-4358-b232-711845f0f502",
   "metadata": {},
   "outputs": [],
   "source": [
    "# Handling missing values\n",
    "# Option 1: Fill missing 'Age' values with the median age\n",
    "titanic_data['Age'].fillna(titanic_data['Age'].median(), inplace=True)\n",
<<<<<<< HEAD
    "# Create a new column 'CabinAvailable' before dropping the 'Cabin' column\n",
    "titanic_data['CabinAvailable'] = titanic_data['Cabin'].apply(lambda x: 0 if pd.isnull(x) else 1)\n",
=======
>>>>>>> 16b61be8ca5d57a590425fe16ef7e24a523d0fb6
    "# Option 2: Drop the 'Cabin' column due to a high number of missing values\n",
    "titanic_data.drop('Cabin', axis=1, inplace=True)\n",
    "# Option 3: Fill missing 'Embarked' values with the mode (most common value)\n",
    "titanic_data['Embarked'].fillna(titanic_data['Embarked'].mode()[0], inplace=True)"
   ]
  },
  {
   "attachments": {},
   "cell_type": "markdown",
   "id": "4aa0c113-30b7-4b58-93d5-af1efe20332f",
   "metadata": {},
   "source": [
    "Additionally, transforming categorical variables into a numerical format is essential for certain types of analysis. This is achieved using techniques like one-hot encoding or label encoding. For example, the 'Sex' column, which contains gender information, can be converted using a mapping function: df['Sex'] = df['Sex'].map({'male': 0, 'female': 1})."
   ]
  },
  {
   "cell_type": "code",
<<<<<<< HEAD
   "execution_count": 5,
=======
   "execution_count": 3,
>>>>>>> 16b61be8ca5d57a590425fe16ef7e24a523d0fb6
   "id": "6a7b9431-8aa4-4f6f-abbc-461607e49c7e",
   "metadata": {},
   "outputs": [],
   "source": [
    "# Data type conversion\n",
    "# Convert 'Sex' to a categorical variable\n",
    "titanic_data['Sex'] = titanic_data['Sex'].astype('category')\n",
    "\n",
    "# Convert 'Embarked' to a categorical variable\n",
    "titanic_data['Embarked'] = titanic_data['Embarked'].astype('category')\n",
    "\n",
    "# Feature engineering\n",
    "# Creating a new feature 'FamilySize'\n",
    "titanic_data['FamilySize'] = titanic_data['SibSp'] + titanic_data['Parch']\n",
    "\n",
    "# Categorizing 'Age' into groups (Optional)\n",
    "bins = [0, 12, 18, 35, 60, 80]\n",
    "labels = ['Child', 'Teenager', 'Young Adult', 'Adult', 'Senior']\n",
    "titanic_data['AgeGroup'] = pd.cut(titanic_data['Age'], bins=bins, labels=labels, right=False)\n"
   ]
  },
  {
   "cell_type": "markdown",
   "id": "f22a60ae-e274-49b0-8704-b736203b5cf7",
   "metadata": {},
   "source": [
    "Additionally, transforming categorical variables into a numerical format is essential for certain types of analysis. This is achieved using techniques like one-hot encoding or label encoding. For example, the 'Sex' column, which contains gender information, can be converted using a mapping function: df['Sex'] = df['Sex'].map({'male': 0, 'female': 1})."
   ]
  },
  {
   "attachments": {},
   "cell_type": "markdown",
   "id": "4f73777e-7d99-40a0-bc2a-11dd75b2cca7",
   "metadata": {},
   "source": [
<<<<<<< HEAD
    "## Exploratory Data Analysis\n",
    "1.\tData Overview: The Titanic dataset includes various features like Passenger Class (Pclass), Name, Sex, Age, Siblings/Spouses Aboard (SibSp), Parents/Children Aboard (Parch), Ticket Number, Fare, Cabin, and Embarkation Point (Embarked). The target variable is Survival, indicating whether a passenger survived the disaster.\n"
=======
    "Exploratory Data Analysis\r\n",
    "1.\tData Overview: The Titanic dataset includes various features like Passenger Class (Pclass), Name, Sex, Age, Siblings/Spouses Aboard (SibSp), Parents/Children Aboard (Parch), Ticket Number, Fare, Cabin, and Embarkation Point (Embarked). The target variable is Survival, indicating whether a passenger survived the disaster.\r\n"
>>>>>>> 16b61be8ca5d57a590425fe16ef7e24a523d0fb6
   ]
  },
  {
   "cell_type": "code",
<<<<<<< HEAD
   "execution_count": 6,
=======
   "execution_count": 4,
>>>>>>> 16b61be8ca5d57a590425fe16ef7e24a523d0fb6
   "id": "1222f512-40f6-446b-81f6-4c1ba69b7ff7",
   "metadata": {},
   "outputs": [
    {
     "name": "stdout",
     "output_type": "stream",
     "text": [
      "   PassengerId  Survived  Pclass  \\\n",
      "0            1         0       3   \n",
      "1            2         1       1   \n",
      "2            3         1       3   \n",
      "3            4         1       1   \n",
      "4            5         0       3   \n",
      "\n",
      "                                                Name     Sex   Age  SibSp  \\\n",
      "0                            Braund, Mr. Owen Harris    male  22.0      1   \n",
      "1  Cumings, Mrs. John Bradley (Florence Briggs Th...  female  38.0      1   \n",
      "2                             Heikkinen, Miss. Laina  female  26.0      0   \n",
      "3       Futrelle, Mrs. Jacques Heath (Lily May Peel)  female  35.0      1   \n",
      "4                           Allen, Mr. William Henry    male  35.0      0   \n",
      "\n",
      "   Parch            Ticket     Fare Embarked  CabinAvailable  FamilySize  \\\n",
      "0      0         A/5 21171   7.2500        S               0           1   \n",
      "1      0          PC 17599  71.2833        C               1           1   \n",
      "2      0  STON/O2. 3101282   7.9250        S               0           0   \n",
      "3      0            113803  53.1000        S               1           1   \n",
      "4      0            373450   8.0500        S               0           0   \n",
      "\n",
      "      AgeGroup  \n",
      "0  Young Adult  \n",
      "1        Adult  \n",
      "2  Young Adult  \n",
      "3        Adult  \n",
      "4        Adult  \n"
     ]
    }
   ],
   "source": [
    "# Display the cleaned dataset\n",
    "print(titanic_data.head())"
   ]
  },
  {
   "cell_type": "markdown",
   "id": "27f2b722-57c1-4a51-8a72-b5cff709afe1",
   "metadata": {},
   "source": [
    "2.\tFeature Analysis:\n",
<<<<<<< HEAD
    "    1. Passenger Class (Pclass): Analysis of this categorical variable can reveal the socio-economic distribution of passengers and its impact on survival rates.\n",
    "    2. Sex and Age: Investigating these features helps in understanding demographic patterns and their influence on survival. Visualizations like bar graphs for gender-based survival and age histograms provide clear insights.\n",
    "    3. Family Size: Combining SibSp and Parch to create a 'Family Size' feature can show the effect of traveling with family on survival.\n",
=======
    "•\tPassenger Class (Pclass): Analysis of this categorical variable can reveal the socio-economic distribution of passengers and its impact on survival rates.\n",
    "•\tSex and Age: Investigating these features helps in understanding demographic patterns and their influence on survival. Visualizations like bar graphs for gender-based survival and age histograms provide clear insights.\n",
    "•\tFamily Size: Combining SibSp and Parch to create a 'Family Size' feature can show the effect of traveling with family on survival.\n",
>>>>>>> 16b61be8ca5d57a590425fe16ef7e24a523d0fb6
    "3.\tCorrelation with Survival: Analyzing how different features correlate with the survival rate is key. For instance, higher survival rates among women and children, and variations in survival rates across different passenger classes.\n",
    "4.\tData Visualization: Utilizing plots such as histograms, bar charts, and box plots helps in visualizing the distribution of various features and their relationship with survival. For example, a bar chart showing the survival rate across different classes or a box plot of ages in different Pclass categories.\n",
    "\n"
   ]
  },
  {
<<<<<<< HEAD
   "cell_type": "code",
   "execution_count": 7,
   "id": "c3bf346f-9f49-4372-9fa8-35568d6dd886",
   "metadata": {},
   "outputs": [
    {
     "data": {
      "image/png": "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",
      "text/plain": [
       "<Figure size 800x500 with 1 Axes>"
      ]
     },
     "metadata": {},
     "output_type": "display_data"
    }
   ],
   "source": [
    "import matplotlib.pyplot as plt\n",
    "import seaborn as sns\n",
    "\n",
    "# Setting the aesthetic style of the plots\n",
    "sns.set_style(\"whitegrid\")\n",
    "\n",
    "# Plotting the distribution of passenger classes\n",
    "plt.figure(figsize=(8, 5))\n",
    "sns.countplot(x='Pclass', data=titanic_data)\n",
    "plt.title('Distribution of Passenger Classes')\n",
    "plt.xlabel('Passenger Class')\n",
    "plt.ylabel('Count')\n",
    "plt.show()\n"
   ]
  },
  {
   "cell_type": "code",
   "execution_count": 8,
   "id": "f1a73127-bbb4-4b84-924a-97e56d1e03c6",
   "metadata": {},
   "outputs": [
    {
     "data": {
      "image/png": "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",
      "text/plain": [
       "<Figure size 800x500 with 1 Axes>"
      ]
     },
     "metadata": {},
     "output_type": "display_data"
    }
   ],
   "source": [
    "# Plotting survival rate by gender\n",
    "plt.figure(figsize=(8, 5))\n",
    "sns.barplot(x='Sex', y='Survived', data=titanic_data)\n",
    "plt.title('Survival Rate by Gender')\n",
    "plt.xlabel('Gender')\n",
    "plt.ylabel('Survival Rate')\n",
    "plt.show()\n"
   ]
  },
  {
   "cell_type": "code",
   "execution_count": 9,
   "id": "078572fe-7028-461e-916b-6003f1c3de05",
   "metadata": {},
   "outputs": [
    {
     "data": {
      "image/png": "iVBORw0KGgoAAAANSUhEUgAAArcAAAHWCAYAAABt3aEVAAAAOXRFWHRTb2Z0d2FyZQBNYXRwbG90bGliIHZlcnNpb24zLjguMSwgaHR0cHM6Ly9tYXRwbG90bGliLm9yZy/SrBM8AAAACXBIWXMAAA9hAAAPYQGoP6dpAABHLklEQVR4nO3deVwV9f7H8TccUEEQFzBzzQ0UAUFNU3FNrdyuS1dzy7zezNTsWpZmpaLmUlZuLd4yr5VpXs2uaFZa2S3DtK4mlhnmrjcFXBBQ0XPm90c/zu0IR1kOnMPwej4ePuLMzJn5zOcM9Gb4zoyXYRiGAAAAABPwdncBAAAAgKsQbgEAAGAahFsAAACYBuEWAAAApkG4BQAAgGkQbgEAAGAahFsAAACYBuEWAAAApkG4BQAAgGkQbgG43IkTJxQWFqYPPvigyLf1wQcfKCwsTCdOnLBP69y5sx566KEi37YkffvttwoLC9O3335bLNsDANyYj7sLAJC7lStXasaMGYqKitI///lPt9YSFhZm/9pisSggIEA1a9ZUs2bNdN9996lBgwYu2c7KlSvl5+enfv36uWR9ruTJtZVGfzwmvby8FBwcrNDQUD300ENq1aqVGysD4G5ehmEY7i4CQE733Xefzpw5o5MnT+rTTz9VnTp13FZLWFiY2rZtqz/96U8yDEPp6en6+eef9fHHH+vSpUuaOHGiRowYYV/eMAxlZWXJx8dHFoslz9vp2bOnKlWqpHfeeSfP77Farbp27ZrKlCkjLy8vSb+fuW3YsKGWLl2a950sYG02m01Xr16Vr6+vvL35Y1hxuf6YPHHihFatWqXU1FQtXbpUHTp0cHeJANyEM7eABzp+/Lh2796tJUuWaOrUqYqPj9e4cePcWtNtt92mP/3pTw7THn/8cT388MOaO3eu6tWrZw8UXl5eKlu2bJHWk5mZKX9/f1kslnwFaFfz9vYu8n1F7q4/Jrt27arevXvr7bffJtzmQ/b3EmAWnGYAPFB8fLyCgoLUoUMH3XXXXYqPj891uXPnzumJJ55Qs2bN1KJFC02aNEk///xzruNdf/31V40fP14tW7ZUZGSk+vXrp88++6xQdVaqVEkvvfSSfHx89Nprr9mn5zbmNjk5WU899ZTat2+viIgIxcbG6uGHH7aPle3cubOSkpK0c+dOhYWFKSwsTMOGDZP0v3G1O3fu1PTp09W6dWt7eMltzG22r7/+Wn/6058UGRmp7t2769NPP3WYv3jxYoc/b2e7fp03qs3ZmNvNmzerX79+ioqKUqtWrTRx4kSdPn3aYZnJkycrJiZGp0+f1pgxYxQTE6M77rhD8+bNk9VqvWn/t27dqlGjRik2NlYRERHq0qWLXnnllRzvHTZsmHr27Kmff/5ZQ4cOVdOmTdW1a1d9/PHHkqSdO3fqz3/+s6KionTXXXfpm2++ybGtn376SX/961/VrFkzxcTEaPjw4dqzZ0+uffv+++81Z84c3XHHHYqOjtbYsWN19uxZh2VtNpsWL16s2NhYNW3aVMOGDdPBgwfVuXNnTZ48+ab7npuwsDBVqlTJ/rl99913Gj9+vDp27KiIiAh16NBBs2fP1uXLlx3ed7NjU5ISExM1cuRItWrVSlFRUercubOeeuqpHPv0j3/8Qz169FBkZKTatGmjqVOn6sKFCw7LZY8J/+6773TvvfcqMjJSd955pz788MMc+5T9mUVFRal9+/Z69dVXtW7dulyP+S+//FKDBw9WdHS0YmJiNGrUKCUlJTksk33MHTt2TA8++KBiYmI0ceJESdKRI0f0yCOPqG3btoqMjFT79u01YcIEXbx4MX8fBOBmnLkFPFB8fLy6du2qMmXKqGfPnlq1apX27t2rqKgo+zI2m00PP/yw9u7dq0GDBqlevXr67LPPNGnSpBzrS0pK0qBBg3TLLbfowQcflL+/vzZv3qyxY8dq8eLF6tq1a4FrrV69um6//XZ9++23Sk9PV0BAQK7LPfLIIzp48KCGDh2qGjVq6OzZs9q+fbv++9//qmbNmpoyZYpmzpwpf39/jR49WpIUHBzssI64uDhVrlxZY8eOVWZm5g3rOnLkiCZMmKD77rtPffv21bp16/Too4/qzTffVNu2bfO1j3mp7Y8++OADPfXUU4qMjNRjjz2m1NRUvf322/rPf/6jDz/8UBUqVLAva7VaNXLkSEVFRenJJ59UQkKC3nrrLdWqVUuDBw++YV3r16+Xv7+/RowYIX9/f+3YsUOLFi1Senp6juPgwoULGj16tLp37667775bq1at0mOPPSabzabZs2frvvvuU8+ePbVs2TKNHz9e27Zts3+WSUlJGjJkiMqXL6+//vWv8vHx0fvvv69hw4bp3XffVdOmTR22NWvWLFWoUEHjxo3TyZMntWLFCs2YMUMLFiywL/Piiy/qzTffVKdOndSuXTv9/PPPGjlypK5cuZKnzyQ3Fy5cUFpamn0Iz8cff6zLly9r0KBBqlixovbu3at3331Xv/32mxYtWmR/382OzdTUVI0cOVKVKlXSqFGjVKFCBZ04cUJbtmxx2P7UqVO1fv169evXT8OGDdOJEye0cuVK/fTTT1q1apV8fX3tyx49elSPPvqo7r33XvvxOXnyZDVp0kQNGzaUJJ0+fVrDhw+XJI0aNUr+/v765z//qTJlyuTY9w8//FCTJ09WbGysJk6cqEuXLmnVqlUaPHiw1q9fr5o1a9qXvXbtmkaOHKnmzZtr0qRJKleunLKysjRy5EhlZWVp6NChCg4O1unTp7Vt2zalpaUpMDCwwJ8LUOwMAB4lMTHRCA0NNbZv324YhmHYbDajffv2xqxZsxyW++STT4zQ0FDjH//4h32a1Wo17r//fiM0NNRYt26dffrw4cONnj17GleuXLFPs9lsxsCBA41u3brdtKbQ0FAjLi7O6fxZs2YZoaGhxv79+w3DMIzjx4871HDhwgUjNDTUePPNN2+4nR49ehhDhw7NMX3dunVGaGioMWjQIOPatWu5zjt+/Lh9WqdOnYzQ0FDjk08+sU+7ePGi0bZtW6NPnz72aYsWLTJCQ0Odbu+P63RW244dO4zQ0FBjx44dhmEYRlZWltG6dWujZ8+exuXLl+3LffHFF0ZoaKixcOFC+7RJkyYZoaGhxpIlSxzW2adPH6Nv3745G3SdS5cu5Zj27LPPGk2bNnX4rIcOHWqEhoYa8fHx9mm//vqrERoaajRq1MjYs2ePffpXX32V4/gZM2aM0aRJE+PYsWP2aadPnzZiYmKMIUOG2Kdl9+2BBx4wbDabffrs2bONxo0bG2lpaYZhGEZycrIRHh5ujBkzxqH2xYsXG6GhocakSZNuuu+hoaHGlClTjNTUVCM1NdX44YcfjOHDhxuhoaHGW2+95bQ/S5cuNcLCwoyTJ08ahpG3Y3PLli1GaGiosXfvXqfL7Nq1ywgNDTU2bNjgMP3f//53junZx+euXbvs01JTU42IiAhj7ty59mkzZ840wsLCjJ9++sk+7dy5c0bLli0djs/09HSjRYsWxjPPPOOw7eTkZKN58+YO07OPufnz5zss+9NPPxmhoaHG5s2bne4jUFIwLAHwMPHx8QoODrZf8e3l5aXu3bvro48+cvhz81dffSVfX18NGDDAPs3b21tDhgxxWN/58+e1Y8cO3XPPPUpPT9fZs2d19uxZnTt3TrGxsTpy5EiOP5fnV/Z4vYyMjFznlytXTr6+vtq5c2eOP9Hmx4ABA/I8vrZq1aoOZ6QDAgLUp08f/fTTT0pOTi5wDTezb98+paamatCgQQ5jcTt27Kh69epp27ZtOd4zaNAgh9fNmzfPdZjF9cqVK2f/OvuzbdGihS5duqRDhw45LOvv768ePXrYX9erV08VKlRQ/fr1Hc68Zn99/PhxSb+fWd6+fbu6dOmiWrVq2ZerWrWqevbsqe+//17p6ekO2xowYID94j5JatGihaxWq06ePClJSkhI0LVr13KcmR46dOhN9/mP1q5dq9atW6t169b685//rP/85z8aMWKE/WznH/uTmZmps2fPKiYmRoZh6KeffrIvc7NjM/us5bZt23T16tVcl/n4448VGBiotm3b2r/Hzp49qyZNmsjf3z/HsJUGDRqoRYsW9teVK1dW3bp17X2Xfv8ej46OVuPGje3TKlasqF69ejms65tvvlFaWpp69OjhsG1vb281bdo019vUXX/MZZ+l//rrr3Xp0qVc9xEoKRiWAHgQq9WqTZs2qVWrVg7hJioqSm+99ZYSEhIUGxsrSTp16pRCQkLk5+fnsI7atWs7vD527JgMw9DChQu1cOHCXLebmpqqW265pcB1Zw8RKF++fK7zy5Qpo4kTJ2revHlq27atmjZtqo4dO6pPnz4KCQnJ83b++KfVm6lTp45DwJJ+vwBJkk6ePJmv7ebHqVOnJEl169bNMa9evXr6/vvvHaaVLVtWlStXdpgWFBSUp18CkpKStGDBAu3YsSNHwLx+nGS1atVy9CMwMFDVqlXLMU2S0tLSJElnz57VpUuXct2f+vXry2az6b///a/9T+nS70NV/ih7GEb2OrN7dP2xWrFiRQUFBd1gjx3deeedGjp0qLy8vFS+fHk1aNDA4cKoU6dOadGiRfr8889z9DO7X3k5Nlu2bKm77rpLS5Ys0T/+8Q+1bNlSXbp0Ua9evexDBI4ePaqLFy+qdevWudaamprq8PrWW2/Nscz1n/vJkycVHR2dY7nr+3bkyBFJsof6610/VMjHxyfH516rVi2NGDFCy5cvV3x8vFq0aKHOnTurd+/eDElAiUO4BTzIjh07lJycrE2bNmnTpk055sfHx9vDbV7ZbDZJ0l/+8he1a9cu12Wu/59lfiUlJclisdwwfD7wwAPq3Lmztm7dqq+//loLFy7U3//+d61YsULh4eF52o6r70pwfdjLlpeLuVyloHd6SEtL09ChQxUQEKDx48erdu3aKlu2rH788UfNnz/f/rnfbDvOphuFuEuks1uiFWadualWrZratGmT6zyr1aoRI0bowoUL+utf/6p69erJ399fp0+f1uTJkx36c7Nj08vLS4sWLdKePXv0xRdf6KuvvtKUKVO0fPlyvf/++ypfvrxsNpuqVKmi+fPn51rP9b/AuPIOH9l9ff7553P9pe36bZUpUybXz2jy5Mnq27evPvvsM23fvl2zZs3S0qVLtWbNmhxhGPBkhFvAg8THx6tKlSqaOnVqjnlbtmzRli1bFBcXp3Llyql69er69ttvdenSJYezt8eOHXN4X/afkn19fZ0GgcI4deqUdu3apejoaKcXk2WrXbu2/vKXv+gvf/mLjhw5oj59+uitt96yBwJnYbMgjh49KsMwHNaZfYarRo0akhzPKP7xIq/sM4t/lNfass9aHj58OMdZvMOHD+c4q1lQO3fu1Pnz57VkyRLdfvvt9ul5Gc6QH5UrV5afn58OHz6cY96hQ4fk7e2d61nIG8nuwbFjxxyGOpw7d65Qw1b+6JdfftGRI0c0b9489enTxz59+/btuS5/s2NTkqKjoxUdHa0JEyYoPj5eEydO1EcffaQ///nPql27thISEtSsWTOH4RCFUaNGDR09ejTHdGff41WqVCn093j23UDGjBmj//znPxo0aJBWrVqlCRMmFGq9QHFizC3gIS5fvqxPP/1UHTt21N13353j35AhQ5SRkaHPP/9ckhQbG6urV69qzZo19nXYbDatXLnSYb1VqlRRy5Yt9f777+vMmTM5tnv9LZry4/z583rsscdktVrtdxHIzaVLl3JcBV+7dm2VL19eWVlZ9ml+fn72P10X1pkzZxyuZk9PT9eHH36oxo0b289uZZ+x3rVrl325zMzMXG/JlNfaIiIiVKVKFa1evdph37788kv9+uuv6tixYwH3yFH2mbc/ng3NysrSe++955L1Z7NYLGrbtq0+++wzh+CckpKijRs3qnnz5jf9peZ6rVu3lo+Pj1atWuUw/fpjtzBy649hGHr77bcdlsvLsXnhwoUcZ52zx8FmL3PPPffIarXq1VdfzVHLtWvXCnRcx8bGas+ePdq/f7992vnz53PcGrBdu3YKCAjQ0qVLcx0TnJfv8fT0dF27ds1hWmhoqLy9vR2OY6Ak4Mwt4CE+//xzZWRkqHPnzrnOj46OVuXKlbVhwwZ1795dXbp0UVRUlObNm6djx46pXr16DmML/3imcdq0aRo8eLB69eqlAQMGqFatWkpJSdGePXv022+/acOGDTet78iRI/rXv/4lwzCUkZFhf0JZZmamJk+erPbt29/wvQ888IDuvvtuNWjQQBaLRVu3blVKSorDRU5NmjTRqlWr9Oqrr6pOnTqqXLmy0zGMN3Pbbbfp6aefVmJioqpUqaJ169YpNTVVc+bMsS/Ttm1bVa9eXU8//bQOHToki8WidevWqVKlSjnO3ua1Nl9fX02cOFFPPfWUhg4dqh49ethvBVajRg098MADBdqf68XExCgoKEiTJ0/WsGHD5OXlZf98XO1vf/ubvvnmGw0ePFiDBw+WxWLR+++/r6ysLD3xxBP5Xl9wcLDuv/9+vfXWWxo9erTatWunAwcO6N///rcqVarkkjP49erVU+3atTVv3jydPn1aAQEB+uSTT3KEzLwcm+vXr9eqVavUpUsX1a5dWxkZGVqzZo0CAgLsx33Lli01cOBALV26VPv371fbtm3l6+urI0eO6OOPP9bTTz+tu+++O1/78Ne//lUbNmzQiBEjNHToUPutwG699VadP3/e3qeAgABNnz5dTz75pPr166fu3burcuXKOnXqlL788ks1a9Ys178G/dGOHTs0Y8YM3X333brttttktVr1r3/9SxaLRXfddVe+6gbcjXALeIgNGzaobNmyTu/B6u3trY4dOyo+Pl7nzp1TpUqVtHTpUj333HNav369vL291bVrV40dOzbHlfoNGjTQunXrtGTJEq1fv17nz59X5cqVFR4errFjx+apvu3bt2v79u3y9vZWQECAatasqT59+mjgwIFq0KDBDd9brVo19ejRQwkJCdqwYYMsFovq1aunBQsWOPyPc+zYsTp16pTefPNNZWRkqGXLloUKt88++6yef/55HT58WDVr1tTLL7/sMO7Y19dXS5YsUVxcnBYuXKiQkBANHz5cFSpUyHGD/vzU1q9fP5UrV05vvPGG5s+fL39/f3Xp0kVPPPGEw/CHwqhUqZJef/11zZs3TwsWLFCFChXUu3dvtW7dWiNHjnTJNrI1bNhQK1eu1IsvvqilS5fKMAxFRUXphRdeyHGP27yaOHGiypUrp3/+859KSEhQdHS0li1bpsGDB+d6H9f88vX11euvv24fN1q2bFl17dpVQ4YMcXiqWV6OzZYtWyoxMVEfffSRUlJSFBgYqKioKM2fP99hWMWMGTMUERGh1atX6+WXX5bFYlGNGjXUu3dvNWvWLN/7cOutt+rtt9+270PlypU1ZMgQ+fn5adasWQ7f47169VLVqlX197//XcuWLVNWVpZuueUWtWjRQv369bvptsLCwhQbG6svvvhCp0+flp+fn8LCwvTGG2/kelEb4Mm8jKL4NR+A22zdulVjx47Ve++9p+bNm7u7HCDP0tLSdPvtt+tvf/ubHn74YXeX47Gee+45vf/++9q9e7dbHz0NeCrG3AIl2PWPEbVarXrnnXcUEBCgJk2auKkq4OauP3YlacWKFZJ+P1OK313fp3PnzmnDhg1q3rw5wRZwgmEJQAk2c+ZMXb58WTExMcrKytKnn36q3bt367HHHnPZFdtAUfjoo4+0fv16tW/fXv7+/vrPf/6jjRs3KjY2lr84/MHAgQPVsmVL1a9fXykpKVq3bp3S09M1ZswYd5cGeCyGJQAlWHx8vJYvX66jR4/qypUrqlOnjgYNGpTvJz0Bxe3HH3/UCy+8oP379ysjI0NVqlRRt27d9Le//c3pw0BKo5deekmffPKJfvvtN3l5eSk8PFzjxo0rktv6AWZBuAUAAIBpMOYWAAAApkG4BQAAgGlwQZl+f6rTtWvX5O3t7dLHfwIAAMA1DMOQzWaTj4+P/SmEuSHc6vdHIyYmJrq7DAAAANxEZGTkDR/2QrjV/55BHhkZWWT3DbRarUpMTCzSbZRU9MY5epM7+uIcvXGO3jhHb5yjN7lzR1+yt3mjs7aSm8Pt0qVL9emnn+rQoUMqV66cYmJiNHHiRNWrV8++zLBhw7Rz506H9w0cOFAzZsywvz516pSmT5+ub7/9Vv7+/urTp48ef/xx+fjkbfeyhyJYLJYi/4CKYxslFb1xjt7kjr44R2+cozfO0Rvn6E3u3NGXmw0hdWu43blzp4YMGaLIyEhZrVa99NJLGjlypDZt2iR/f3/7cgMGDND48ePtr/38/OxfW61WPfTQQwoODtbq1at15swZTZo0Sb6+vnrssceKdX8AAADgXm4Nt8uWLXN4PXfuXLVu3Vo//vijbr/9dvv0cuXKKSQkJNd1fP311zp48KCWL1+u4OBgNW7cWI8++qjmz5+vcePG3XBMBgAAAMzFo8bcXrx4UZIUFBTkMD0+Pl4bNmxQSEiIOnXqpDFjxtjP3u7Zs0ehoaEKDg62Lx8bG6vp06fr4MGDCg8Pz/P2rVarC/bixusuym2UVPTGOXqTO/riHL1xjt44R2+coze5c0df8rotjwm3NptNs2fPVrNmzRQaGmqf3rNnT1WvXl1Vq1bVgQMHNH/+fB0+fFhLliyRJKWkpDgEW0n218nJyfmqoTjumMBdGZyjN87Rm9zRF+fojXP0xjl64xy9yZ0n9sVjwm1cXJySkpL03nvvOUwfOHCg/euwsDCFhITogQce0LFjx1S7dm2X1sDdEtyD3jhHb3JHX5yjN87RG+fojXP0JnfuvFvCzXhEuJ0xY4a2bdumd999V9WqVbvhsk2bNpUkHT16VLVr11ZwcLD27t3rsExKSookOR2n6wx3S3AveuMcvckdfXGO3jhHb5yjN87Rm9x5Yl/c+vhdwzA0Y8YMbdmyRStWrFCtWrVu+p79+/dL+l9wjY6O1i+//KLU1FT7Mt98840CAgLUoEGDoikcAAAAHsmtZ27j4uK0ceNGvfrqqypfvrx9jGxgYKDKlSunY8eOKT4+Xh06dFDFihV14MABzZkzR7fffrsaNWok6feLxxo0aKAnn3xSTzzxhJKTk7VgwQINGTKEOyUAAACUMm4Nt6tWrZL0+4Ma/mjOnDnq16+ffH19lZCQoLfffluZmZm69dZb1a1bN40ZM8a+rMVi0euvv67p06dr4MCB8vPzU9++fR3uiwsAAIDSwa3h9sCBAzecf+utt+rdd9+96Xpq1KihN954w1VlAQAAoIRy65hbAAAAwJUItwAAADANwi0AAABMg3ALAAAA0yDcAgAAwDQItwCKnM1meOS6AADm4xGP3wVgbt7eXlr8eZJOnrtUqPXUqOSnRzo3lNXqosIAAKZDuAVQLE6eu6QjqRnuLgMAYHIMSwAAAIBpEG4BAABgGoRbAAAAmAbhFgAAAKZBuAUAAIBpEG4BAABgGoRbAAAAmAbhFgAAAKZBuAUAAIBpEG4BAABgGoRbAAAAmAbhFgAAAKZBuAUAAIBpEG4BAABgGoRbAAAAmAbhFgAAAKZBuAUAAIBpEG4BAABgGoRbAAAAmAbhFgAAAKZBuAUAAIBpEG4BAABgGoRbAAAAmAbhFgAAAKZBuAUAAIBpEG4BAABgGoRbAAAAmAbhFgAAAKZBuAUAAIBpEG4BAABgGoRbAAAAmAbhFgAAAKZBuAUAAIBpEG4BAABgGoRbAAAAmAbhFgAAAKZBuAUAAIBpEG4BAABgGoRbAAAAmAbhFgAAAKZBuAUAAIBpEG4BAABgGoRbAAAAmAbhFgAAAKZBuAUAAIBpEG4BAABgGoRbAAAAmAbhFgAAAKZBuAUAAIBpEG4BAABgGoRbAAAAmAbhFgAAAKZBuAUAAIBpEG4BAABgGoRbAAAAmAbhFgAAAKZBuAUAAIBpuDXcLl26VP3791dMTIxat26tMWPG6NChQw7LXLlyRXFxcWrVqpViYmL0yCOPKCUlxWGZU6dOadSoUWratKlat26tefPm6dq1a8W5KwAAAPAAbg23O3fu1JAhQ7RmzRotX75c165d08iRI5WZmWlfZvbs2friiy+0YMECvfPOOzpz5ozGjRtnn2+1WvXQQw/p6tWrWr16tebOnav169dr0aJF7tglAAAAuJFbw+2yZcvUr18/NWzYUI0aNdLcuXN16tQp/fjjj5Kkixcvat26dZo8ebJat26tiIgIzZ49W7t379aePXskSV9//bUOHjyoF154QY0bN1aHDh306KOPauXKlcrKynLj3gEAAKC4+bi7gD+6ePGiJCkoKEiStG/fPl29elVt2rSxL1O/fn1Vr15de/bsUXR0tPbs2aPQ0FAFBwfbl4mNjdX06dN18OBBhYeH53n7VqvVRXvifN1FuY2Sit44Z5beWCwWSZJhuGZ9NptNUsnvS1EwyzFTFOiNc/TGOXqTO3f0Ja/b8phwa7PZNHv2bDVr1kyhoaGSpJSUFPn6+qpChQoOy1apUkXJycn2Zf4YbCXZX2cvk1eJiYkFLd+jtlFS0RvnSnJv/Pz8FB4erszMTKWnpxdqXZn+XpKkpKQkSSW7L0WN3jhHb5yjN87Rm9x5Yl88JtzGxcUpKSlJ7733nttqiIyMtJ9hcjWr1arExMQi3UZJRW+cM1Nv/P39FRBQuFO3/v7+kqSGDRtq7969puiLq5npmHE1euMcvXGO3uTOHX3J3ubNeES4nTFjhrZt26Z3331X1apVs08PDg7W1atXlZaW5nD2NjU1VSEhIfZl9u7d67C+7LspZC+TVxaLpcg/oOLYRklFb5wzS2+8vFyzHm/v3y8XMEtfigK9cY7eOEdvnKM3ufPEvrj1gjLDMDRjxgxt2bJFK1asUK1atRzmR0REyNfXVwkJCfZphw4d0qlTpxQdHS1Jio6O1i+//KLU1FT7Mt98840CAgLUoEGDYtkPAAAAeAa3nrmNi4vTxo0b9eqrr6p8+fL2MbKBgYEqV66cAgMD1b9/f82dO1dBQUEKCAjQrFmzFBMTYw+3sbGxatCggZ588kk98cQTSk5O1oIFCzRkyBCVKVPGjXsHAACA4ubWcLtq1SpJ0rBhwxymz5kzR/369ZMkTZkyRd7e3ho/fryysrIUGxuradOm2Ze1WCx6/fXXNX36dA0cOFB+fn7q27evxo8fX3w7AgAAAI/g1nB74MCBmy5TtmxZTZs2zSHQXq9GjRp64403XFkaAAAASiC3jrkFAAAAXIlwCwAAANMg3AIAAMA0CLcAAAAwDcItAAAATINwCwAAANMg3AIAAMA0CLcAAAAwDcItAAAATINwCwAAANMg3AIAAMA0CLcAAAAwDcItAAAATINwCwAAANMg3AIAAMA0CLcAAAAwDcItAAAATINwCwAAANMg3AIAAMA0CLcAAAAwDcItAAAATINwCwAAANMg3AIAAMA0CLcAAAAwDcItAAAATINwCwAAANMg3AIAAMA0CLcAAAAwDcItAAAATINwCwAAANMg3AIAAMA0CLcAAAAwDcItAAAATINwCwAAANMg3AIAAMA0CLcAAAAwDcItAAAATINwCwAAANMg3AIAAMA0CLcAAAAwDcItAAAATINwCwAAANMg3AIAAMA0CLcAAAAwDcItAAAATINwCwAAANMg3AIAAMA0CLcAAAAwDcItAAAATINwCwAAANMg3AIAAMA0CLcAAAAwDcItAAAATINwCwAAANMg3AIAAMA0CLcAAAAwDcItAAAATINwCwAAANMg3AIAAMA0CLcAAAAwDcItAAAATINwCwAAANMg3AIAAMA0CLcAAAAwDcItAAAATMOt4XbXrl0aPXq0YmNjFRYWpq1btzrMnzx5ssLCwhz+jRw50mGZ8+fP6/HHH1ezZs3UokULTZkyRRkZGcW5GwAAAPAQPu7ceGZmpsLCwtS/f3+NGzcu12XatWunOXPm2F+XKVPGYf7EiROVnJys5cuX6+rVq5oyZYqmTp2qF198sUhrBwAAgOdxa7jt0KGDOnTocMNlypQpo5CQkFzn/frrr/rqq6+0du1aRUZGSpKeeeYZjRo1Sk8++aRuueWWfNVjtVrztXxB1l2U2yip6I1zZumNxWKRJBmGa9Zns9kklfy+FAWzHDNFgd44R2+coze5c0df8rott4bbvNi5c6dat26tChUq6I477tDf/vY3VapUSZK0e/duVahQwR5sJalNmzby9vbW3r171bVr13xtKzEx0aW1u2sbJRW9ca4k98bPz0/h4eHKzMxUenp6odaV6e8lSUpKSpJUsvtS1OiNc/TGOXrjHL3JnSf2xaPDbbt27dS1a1fVrFlTx48f10svvaQHH3xQ77//viwWi1JSUlS5cmWH9/j4+CgoKEjJycn53l5kZKT9DJOrWa1WJSYmFuk2Sip645yZeuPv76+AgMKduvX395ckNWzYUHv37jVFX1zNTMeMq9Eb5+iNc/Qmd+7oS/Y2b8ajw22PHj3sX2dfUNalSxf72VxXs1gsRf4BFcc2Sip645xZeuPl5Zr1eHv/fi2sWfpSFOiNc/TGOXrjHL3JnSf2pUTdCqxWrVqqVKmSjh49KkkKDg7W2bNnHZa5du2aLly44HScLgAAAMyrRIXb3377TefPn7cH15iYGKWlpWnfvn32ZXbs2CGbzaaoqCh3lQkAAAA3ceuwhIyMDB07dsz++sSJE9q/f7+CgoIUFBSkJUuW6K677lJwcLCOHz+uF154QXXq1FG7du0kSfXr11e7du307LPPKi4uTlevXtXMmTPVo0ePfN8pAQAAACWfW8Ptvn37dP/999tfZ9/Ptm/fvpo+fbp++eUXffjhh7p48aKqVq2qtm3b6tFHH3W41+38+fM1c+ZMDR8+XN7e3urWrZueeeaZYt8XAAAAuJ9bw22rVq104MABp/OXLVt203VUrFiRBzYAAABAUgkbcwsAAADcCOEWAAAApkG4BQAAgGkQbgEAAGAahFsAAACYBuEWAAAApkG4BQAAgGkQbgEAAGAahFsAAACYRoHC7Z133qlz587lmJ6WlqY777yz0EUBAAAABVGgcHvy5EnZbLYc07OysnT69OlCFwUAAAAUhE9+Fv7ss8/sX3/11VcKDAy0v7bZbEpISFCNGjVcVx0AAACQD/kKt2PHjpUkeXl5afLkyY4r8vFRjRo1ckwHAAAAiku+wu3PP/8sSercubPWrl2rypUrF0lRAAAAQEHkK9xm+/zzz11dBwAAAFBoBQq3kpSQkKCEhASlpqbmuLhszpw5hS4MAAAAyK8ChdslS5bolVdeUUREhEJCQuTl5eXqugAAAIB8K1C4Xb16tebMmaM+ffq4uBwAAACg4Ap0n9urV6+qWbNmrq4FAAAAKJQChdt7771X8fHxrq4FAAAAKJQCDUu4cuWK1qxZo4SEBIWFhcnHx3E1Tz31lEuKAwAAAPKjQOH2wIEDatSokSTpl19+cZjHxWUAAABwlwKF23feecfVdQAAAACFVqAxtwAAAIAnKtCZ22HDht1w+MHbb79d4IIAAACAgipQuG3cuLHD62vXrmn//v1KSkri3rcAAABwmwKF2ylTpuQ6ffHixcrMzCxUQQAAAEBBuXTMbe/evbVu3TpXrhIAAADIM5eG2927d6tMmTKuXCUAAACQZwUaljBu3DiH14ZhKDk5Wfv27dOYMWNcUhgAAACQXwUKt4GBgQ6vvby8VLduXY0fP16xsbEuKQwAAADIrwKF2zlz5ri6DgAAAKDQChRus+3bt0+//vqrJKlhw4YKDw93SVEAAABAQRQo3KampmrChAnauXOnKlSoIElKS0tTq1at9PLLL6ty5couLRIAAADIiwLdLWHmzJnKyMjQpk2btHPnTu3cuVMbN25Uenq6Zs2a5eoaAQAAgDwpULj96quvNG3aNNWvX98+rUGDBpo2bZr+/e9/u6w4AAAAID8KFG5tNpt8fX1zTPfx8ZHNZit0UQAAAEBBFCjc3nHHHXruued0+vRp+7TTp09rzpw5at26tcuKAwAAAPKjQBeUTZ06VQ8//LDuvPNOVatWTZL022+/qWHDhnrhhRdcWiAAAACQVwUKt7feeqvWr1+vb775RocOHZIk1a9fX23atHFpcQAAAEB+5GtYQkJCgrp376709HR5eXmpbdu2GjZsmIYNG6bIyEj16NFD3333XVHVCgAAANxQvsLtihUrNGDAAAUEBOSYFxgYqIEDB2r58uUuKw4AAADIj3yF2wMHDqhdu3ZO57dt21Y//vhjoYsCAAAACiJf4TYlJUU+Ps6H6fr4+Ojs2bOFLgoAAAAoiHyF21tuuUVJSUlO5x84cEAhISGFLgoAAAAoiHyF2w4dOmjhwoW6cuVKjnmXL1/W4sWL1alTJ5cVBwAAAORHvm4F9vDDD+vTTz/VXXfdpSFDhqhu3bqSpEOHDum9996T1WrV6NGji6RQAAAA4GbyFW6Dg4O1evVqTZ8+XS+99JIMw5AkeXl5KTY2VlOnTlVwcHCRFAoAAADcTL4f4lCjRg298cYbunDhgo4ePSpJqlOnjoKCglxeHAAAAJAfBXpCmSQFBQUpKirKlbUAAAAAhZKvC8oAAAAAT0a4BQAAgGkQbgEAAGAahFsAAACYBuEWAAAApkG4BQAAgGkQbgEAAGAahFsAAACYBuEWAAAApkG4BQAAgGkQbgEAAGAahFsAAACYBuEWAAAApkG4BQAAgGm4Ndzu2rVLo0ePVmxsrMLCwrR161aH+YZhaOHChYqNjVVUVJQeeOABHTlyxGGZ8+fP6/HHH1ezZs3UokULTZkyRRkZGcW4FwAAAPAUbg23mZmZCgsL07Rp03Kd/8Ybb+idd97R9OnTtWbNGvn5+WnkyJG6cuWKfZmJEyfq4MGDWr58uV5//XV99913mjp1anHtAgAAADyIW8Nthw4dNGHCBHXt2jXHPMMw9Pbbb+vhhx9Wly5d1KhRIz3//PM6c+aM/Qzvr7/+qq+++kqzZs1S06ZN1aJFCz3zzDPatGmTTp8+Xdy7AwAAADfzcXcBzpw4cULJyclq06aNfVpgYKCaNm2q3bt3q0ePHtq9e7cqVKigyMhI+zJt2rSRt7e39u7dm2tovhGr1eqy+p2tuyi3UVLRG+fM0huLxSJJMgzXrM9ms0kq+X0pCmY5ZooCvXGO3jhHb3Lnjr7kdVseG26Tk5MlSVWqVHGYXqVKFaWkpEiSUlJSVLlyZYf5Pj4+CgoKsr8/PxITEwtYrWdto6SiN86V5N74+fkpPDxcmZmZSk9PL9S6Mv29JElJSUmSSnZfihq9cY7eOEdvnKM3ufPEvnhsuHWHyMhI+xkmV7NarUpMTCzSbZRU9MY5M/XG399fAQGFO3Xr7+8vSWrYsKH27t1rir64mpmOGVejN87RG+foTe7c0Zfsbd6Mx4bbkJAQSVJqaqqqVq1qn56amqpGjRpJkoKDg3X27FmH9127dk0XLlywvz8/LBZLkX9AxbGNkoreOGeW3nh5uWY93t6/Xy5glr4UBXrjHL1xjt44R29y54l98dj73NasWVMhISFKSEiwT0tPT9cPP/ygmJgYSVJMTIzS0tK0b98++zI7duyQzWZTVFRUsdcMAAAA93LrmduMjAwdO3bM/vrEiRPav3+/goKCVL16dd1///167bXXVKdOHdWsWVMLFy5U1apV1aVLF0lS/fr11a5dOz377LOKi4vT1atXNXPmTPXo0UO33HKLu3YLAAAAbuLWcLtv3z7df//99tdz5syRJPXt21dz587Vgw8+qEuXLmnq1KlKS0tT8+bN9eabb6ps2bL298yfP18zZ87U8OHD5e3trW7duumZZ54p9n0BAACA+7k13LZq1UoHDhxwOt/Ly0uPPvqoHn30UafLVKxYUS+++GJRlAcAAIASxmPH3AIAAAD5RbgFAACAaRBuAQAAYBqEWwAAAJgG4RYAAACmQbgFAACAaRBuAQAAYBqEWwAAAJgG4RYAAACmQbgFAACAaRBuAQAAYBqEWwAAAJgG4RYAAACmQbgFAACAaRBuAQAAYBqEWwAAAJgG4RYAAACmQbgFAACAaRBuAQAAYBqEWwAAAJgG4RYAAACmQbgFAACAaRBuAQAAYBqEWwAAAJgG4RYAAACmQbgFAACAaRBuAQAAYBqEWwAAAJgG4RYAAACmQbgFAACAaRBuAQAAYBqEWwAAAJgG4RYAAACmQbgFAACAaRBuAROx2QyPXBcAAMXFx90FAHAdb28vLf48SSfPXSrUempU8tMjnRu6qCoAAIoP4RYwmZPnLulIaoa7ywAAwC0YlgAAAADTINwCAADANAi3AAAAMA3CLQAAAEyDcAsAAADTINwCAADANAi3AAAAMA3CLQAAAEyDcAt4OD8/P3eXAABAicETygA3s9kMeXt75TrPYrEoPDy8mCsCAKDkItwCbubt7aXFnyfp5LlLuc7PzMyUv7//TdcTXaui7mtZ29XlAQBQohBuAQ9w8twlHUnNyDHdMKT09HQFBBjyyv3krl31igxfAACAMbcAAAAwDcItgBKJC+0AALlhWAKAEiPIz1c2m+GSC+1udCEfAKDkItwCKDHKl/X5/QK8z5KUdCo1Txfa5aZGJT890rmhi6sDAHgCwi2AEufk+Uv69czFPF1oBwAoXRhzCwAAANMg3AIAAMA0CLcAAAAwDcItAAAATINwCwAAANMg3AIAAMA0CLcAAAAwDcItAAAATINwCwAAANMg3AIAAMA0CLcAAAAwDY8Ot4sXL1ZYWJjDv7vvvts+/8qVK4qLi1OrVq0UExOjRx55RCkpKW6sGAAAAO7k4+4CbqZhw4Zavny5/bXFYrF/PXv2bH355ZdasGCBAgMDNXPmTI0bN06rV692R6kAAABwM48PtxaLRSEhITmmX7x4UevWrdP8+fPVunVrSb+H3e7du2vPnj2Kjo4u5koBAADgbh4fbo8eParY2FiVLVtW0dHRevzxx1W9enXt27dPV69eVZs2bezL1q9fX9WrVy9wuLVarS6sPPd1F+U2SqrS3pvsv0YYRi4zsycahgx55Xmdua6rAFz1mdxwHwukYH25nhmPudL+/XQj9MY5euMcvcmdO/qS1215dLiNiorSnDlzVLduXSUnJ+uVV17RkCFDFB8fr5SUFPn6+qpChQoO76lSpYqSk5MLtL3ExERXlO32bZRUpbE3fn5+Cg8PV2ZmptLT050ul56RcdN1Xb5c/v//e/mG68qLTP/fA+OBAwd06dKlQq0rr/uYF//bxyuS8taX3Lhy/zxVafx+yit64xy9cY7e5M4T++LR4bZDhw72rxs1aqSmTZuqU6dO2rx5s8qVK+fy7UVGRjqM6XUlq9WqxMTEIt1GSUVvJH9/fwUE5HJa0zCUnpGhgPLlJa8bn6EsV87v//9bTgEBhftN2t/fX5IUFhZWqPVcv85c9zEf/rePZSUpT31xVovk2v3zFHw/OUdvnKM3ztGb3LmjL9nbvBmPDrfXq1Chgm677TYdO3ZMbdq00dWrV5WWluZw9jY1NTXXMbp5YbFYivwDKo5tlFSlvTe5ZTT7n9y9vPKV4QqQ93Ll6s/DVXWpgH25npmPt9L+/XQj9MY5euMcvcmdJ/bFo28Fdr2MjAwdP35cISEhioiIkK+vrxISEuzzDx06pFOnTnExGQAAQCnl0Wdu582bp06dOql69eo6c+aMFi9eLG9vb/Xs2VOBgYHq37+/5s6dq6CgIAUEBGjWrFmKiYkh3AIAAJRSHh1uf/vtNz322GM6f/68KleurObNm2vNmjWqXLmyJGnKlCny9vbW+PHjlZWVpdjYWE2bNs3NVQMobWw2Q97erhlz4cp1AUBp5NHh9uWXX77h/LJly2ratGkEWgBu5e3tpcWfJ+nkucLdeaFGJT890rmhi6oCgNLJo8MtAJQUJ89d0pHUgt2aDADgOiXqgjIAAADgRgi3AAAAMA3CLQAAAEyDcAsAAADTINwCyCHIz1c2W+EelQsAgDtwtwQAOZQv6+Oy21tF16qo+1rWdlFlAADcGOEWgFOuuL1V9Yp+LqoGAICbY1gCAAAATINwCwAAANMg3AIFxAVX8FR+fgwFAVB6MeYWKCBXXHDFxVb4o+y7VHh7exV4HRaLReHh4ZJU6HUBQElEuAUKobAXXHGxFf7IVXepyMzMVMPqVfTInQ1dWB0AlAyEWwDwMIX5pckwpPT0dPn7+7u4KgAoGRhzCwAAANMg3AIAAMA0CLcAAAAwDcItAAAATINwCwAAANMg3AIodbLvJwsAMB9uBQag1HHV/WQlHsQBAJ6GcAug1CrsQzgkHsQBAJ6GYQkAAAAwDcKtm7hyvB9jBwEAAH7HsAQ3cdV4vxqV/PRIZ54fDwAAIBFu3coV4/2QPzabIW9vL3eXAQAAigjhFqUKV8gD+efKXwr5BRNAUSPcotThCnkgfxhGBaAkIdwCAG6KYVQASgrulgAAAADTINwCAADANAi3AAAAMA3CLQAAAEyDcAsAAADTINwCAADANAi3AAAAMA3CLQAAAEyDcAsAJhTk5yubzXB3GQ5cXZOn7R8Az8ATygDAhMqX9XHJY3Oja1XUfS1re1RNEo/yBeAc4RYATKywj82tXtHPhdX8jkf5AihKDEsAAACAaRBuAQAAYBqEWwAAAJgG4RYAUGr4+bl+DDEAz0K4BQCUOAW5rZjFYlF4eLgsFkuOedxWDDAP7pYAAChxCnpbsczMTPn7+ztM47ZigLkQbgEAJVZ+bitmGFJ6eroCAgx5eRVdTTabIW/vwm/AVesBShvCLTwC4+AAmIUrHlTB2WSg4Ai3JVz2uDNPO0uQn3Vlj4MrjroA4Hqu/DmajQdVAO5DuC3hXPU4S1efJchvTbmNgyuKugDgeq58LLArH1cMoGAItybhiWcJ8lpTcY2DA4AbccXP0aJ4XDGA/OFWYAAAADANwi0AAABMg3ALAAAA0yDcQlLBnvYDADAPbskIs+CCMkjiamEAMLOb3ersZrdkzM+6AHcj3MIBVwsDgPnk5eSFs1sy/hG3Z0RJQLgFAKAUuNHJi7zektHVD7zgLDCKAuEWAAAPUxRPTXMFVw5h4ywwigrhFgAAD+Pp10F44oODgGyEWwAAPBTXQXgG7iRRsnArMAAAgP93/W0xs+8kYbFYCr0uFA/O3AIAAPy/3IaD5OVOEtdjTLH7EG4BAECx8+Q7L/xxOEhe7yQBz0G4hUfz1CuGAQCFw50XUFRME25XrlypZcuWKTk5WY0aNdKzzz6rqKgod5eFQvL0K4YBAIXDnRfgaqYItx999JHmzJmjuLg4NW3aVCtWrNDIkSP18ccfq0qVKu4uDy7AFcMAAHgWX19fd5eQK1PcLWH58uUaMGCA+vfvrwYNGiguLk7lypXTunXr3F0aAAAohbKH1bmKp63LYrEovEkTF1TjeiX+zG1WVpZ+/PFHPfTQQ/Zp3t7eatOmjXbv3p2ndRiGYV9XQW71kRdWq9VhGxaLRbUrlpOPV+EOsGqBvrJarYVel6vWU6B1GYYuBXjJr1w5XT9a3611FcO6brqeG/SmqGoqGesqq6vVAvPUl+KryUPW9f/HTLVAn5L/s8HV63Ly/eT2uopwPXleVx5/1nhirySpelA5Wa1W+/9rCyPH/5/z8XP4j+oH+8kwbPrg+5NKTc8qVE1VAsroT9E1lJVV+P2Tft/HwtZVJcBXf4quqatXr7qk73mRvZ3s3OaMl3GzJTzc6dOn1b59e61evVoxMTH26c8//7x27dqlf/7znzddR1ZWlhITE4uyTAAAALhAZGSkypQp43R+iT9z6wo+Pj6KjIyUt7e3vLjPBwAAgMcxDEM2m00+PjeOryU+3FaqVEkWi0WpqakO01NTUxUcHJyndXh7e9/wNwAAAACUDCX+grIyZcqoSZMmSkhIsE+z2WxKSEhwGKYAAAAA8yvxZ24lacSIEZo0aZIiIiIUFRWlFStW6NKlS+rXr5+7SwMAAEAxMkW47d69u86ePatFixYpOTlZjRs31ptvvpnnYQkAAAAwhxJ/twQAAAAgW4kfcwsAAABkI9wCAADANAi3AAAAMA3CLQAAAEyDcFsMVq5cqc6dOysyMlJ//vOftXfvXneXVOx27dql0aNHKzY2VmFhYdq6davDfMMwtHDhQsXGxioqKkoPPPCAjhw54p5ii9nSpUvVv39/xcTEqHXr1hozZowOHTrksMyVK1cUFxenVq1aKSYmRo888ohSUlLcVHHxee+999SrVy81a9ZMzZo108CBA/Xll1/a55fWvlzv73//u8LCwvTcc8/Zp5XW3ixevFhhYWEO/+6++277/NLal2ynT5/WxIkT1apVK0VFRalXr14Oj58vrT+LO3funOO4CQsLU1xcnKTSfdxYrVYtWLBAnTt3VlRUlLp06aJXXnlFf7wfgccdNwaK1KZNm4wmTZoYa9euNZKSkoxnnnnGaNGihZGSkuLu0orVtm3bjJdeesn49NNPjdDQUGPLli0O85cuXWo0b97c2LJli7F//35j9OjRRufOnY3Lly+7qeLi85e//MVYt26d8csvvxj79+83HnzwQaNjx45GRkaGfZmpU6caHTp0ML755hsjMTHRGDBggDFw4EA3Vl08PvvsM2Pbtm3G4cOHjUOHDhkvvfSS0aRJE+OXX34xDKP09uWPfvjhB6NTp05Gr169jFmzZtmnl9beLFq0yOjRo4dx5swZ+7/U1FT7/NLaF8MwjPPnzxudOnUyJk+ebPzwww/GsWPHjK+++so4evSofZnS+rM4NTXV4ZjZvn27ERoaauzYscMwjNJ93Lz22mtGy5YtjS+++MI4fvy4sXnzZiM6OtpYsWKFfRlPO24It0Xs3nvvNeLi4uyvrVarERsbayxdutSNVbnX9eHWZrMZbdu2Nd588037tLS0NCMiIsLYuHGjO0p0q9TUVCM0NNTYuXOnYRi/96JJkybG5s2b7cscPHjQCA0NNXbv3u2mKt3n9ttvN9asWUNfDMNIT083unXrZmzfvt0YOnSoPdyW5t4sWrTI6N27d67zSnNfDMMwXnjhBWPQoEFO5/Oz+H9mzZpldOnSxbDZbKX+uBk1apTx1FNPOUwbN26c8fjjjxuG4ZnHDcMSilBWVpZ+/PFHtWnTxj7N29tbbdq00e7du91YmWc5ceKEkpOTHfoUGBiopk2blso+Xbx4UZIUFBQkSdq3b5+uXr3q0J/69eurevXq2rNnjztKdAur1apNmzYpMzNTMTEx9EXSjBkz1KFDB4ceSBwzR48eVWxsrO688049/vjjOnXqlCT68vnnnysiIkLjx49X69at1adPH61Zs8Y+n5/Fv8vKytKGDRvUv39/eXl5lfrjJiYmRjt27NDhw4clST///LO+//57tW/fXpJnHjemeEKZpzp37pysVquqVKniML1KlSo5xlSWZsnJyZKUa59Ky5imbDabTbNnz1azZs0UGhoqSUpJSZGvr68qVKjgsGyVKlXsvTOzAwcO6L777tOVK1fk7++vV155RQ0aNND+/ftLdV82bdqkn376SWvXrs0xrzQfM1FRUZozZ47q1q2r5ORkvfLKKxoyZIji4+NLdV8k6fjx41q1apVGjBih0aNHKzExUbNmzZKvr6/69u3Lz+L/t3XrVl28eFF9+/aVVLq/nyRp1KhRSk9P1z333COLxSKr1aoJEyaod+/ekjzz/+GEW8CDxMXFKSkpSe+99567S/EYdevW1YcffqiLFy/qk08+0aRJk/Tuu++6uyy3+u9//6vnnntOb731lsqWLevucjxKhw4d7F83atRITZs2VadOnbR582aVK1fOjZW5n2EYioiI0GOPPSZJCg8PV1JSklavXm0PcpDWrVun9u3b65ZbbnF3KR5h8+bNio+P14svvmg/sTBnzhxVrVrVY48bhiUUoUqVKslisSg1NdVhempqqoKDg91UlecJCQmRpFLfpxkzZmjbtm1asWKFqlWrZp8eHBysq1evKi0tzWH51NRUe+/MrEyZMqpTp44iIiL0+OOPq1GjRnr77bdLdV9+/PFHpaamql+/fgoPD1d4eLh27typd955R+Hh4aW6N9erUKGCbrvtNh07dqzU9yUkJET169d3mFavXj37sA1+FksnT57UN998o3vvvdc+rbQfN88//7xGjRqlHj16KCwsTH369NHw4cO1dOlSSZ553BBui1CZMmXUpEkTJSQk2KfZbDYlJCQoJibGjZV5lpo1ayokJMShT+np6frhhx9KRZ8Mw9CMGTO0ZcsWrVixQrVq1XKYHxERIV9fX4f+HDp0SKdOnVJ0dHQxV+t+NptNWVlZpbovd9xxh+Lj4/Xhhx/a/0VERKhXr172r0trb66XkZGh48ePKyQkpNT3pVmzZvZxk9mOHDmiGjVqSOJnsSR98MEHqlKlijp27GifVtqPm8uXL8vLy8thmsVisd8KzBOPG4YlFLERI0Zo0qRJioiIUFRUlFasWKFLly6pX79+7i6tWGVkZOjYsWP21ydOnND+/fsVFBSk6tWr6/7779drr72mOnXqqGbNmlq4cKGqVq2qLl26uLHq4hEXF6eNGzfq1VdfVfny5e3jlwIDA1WuXDkFBgaqf//+mjt3roKCghQQEKBZs2YpJibG9D9YX3zxRbVv31633nqrMjIytHHjRu3cuVPLli0r1X0JCAiwj8nO5u/vr4oVK9qnl9bezJs3T506dVL16tV15swZLV68WN7e3urZs2epPmYkafjw4Ro0aJBef/113XPPPdq7d6/WrFmjGTNmSJK8vLxK9c9im82mDz74QH369JGPz//iUWk/bjp16qTXX39d1atXtw9LWL58ufr37y/JM48bL8P4w114USTeffddLVu2TMnJyWrcuLGeeeYZNW3a1N1lFatvv/1W999/f47pffv21dy5c2UYhhYtWqQ1a9YoLS1NzZs317Rp01S3bl03VFu8wsLCcp0+Z84c+y9BV65c0dy5c7Vp0yZlZWUpNjZW06ZNM/2fxKZMmaIdO3bozJkzCgwMVFhYmB588EG1bdtWUuntS26GDRumRo0a6emnn5ZUenszYcIE7dq1S+fPn1flypXVvHlzTZgwQbVr15ZUevuS7YsvvtBLL72kI0eOqGbNmhoxYoQGDBhgn1+afxZ//fXXGjlypD7++OMc+1uaj5v09HQtXLhQW7duVWpqqqpWraoePXpo7NixKlOmjCTPO24ItwAAADANxtwCAADANAi3AAAAMA3CLQAAAEyDcAsAAADTINwCAADANAi3AAAAMA3CLQAAAEyDcAsAAADTINwCAADANAi3AFCC7N69W40bN9aoUaPcXQoAeCTCLQCUIGvXrtXQoUO1a9cunT592t3lAIDHIdwCQAmRkZGhjz76SIMGDVLHjh21fv16h/mfffaZunXrpsjISA0bNkzr169XWFiY0tLS7Mt89913Gjx4sKKiotShQwfNmjVLmZmZxb0rAFBkCLcAUEJs3rxZ9erVU7169dS7d2+tW7dOhmFIko4fP65HH31Ud955p/71r3/pvvvu08svv+zw/mPHjunBBx9Ut27dtGHDBr388sv6/vvvNXPmTHfsDgAUCcItAJQQa9euVe/evSVJ7dq108WLF7Vz505J0vvvv6+6detq0qRJqlevnnr06KG+ffs6vH/p0qXq1auXHnjgAd12221q1qyZnn76aX344Ye6cuVKse8PABQFH3cXAAC4uUOHDikxMVGvvPKKJMnHx0fdu3fX2rVr1apVKx0+fFgREREO74mKinJ4/fPPP+vAgQOKj4+3TzMMQzabTSdOnFD9+vWLfkcAoIgRbgGgBFi7dq2uXbumdu3a2acZhqEyZcpo6tSpeVpHZmam7rvvPg0bNizHvFtvvdVltQKAOxFuAcDDXbt2Tf/61780efJktW3b1mHe2LFjtXHjRtWtW1dffvmlw7zExESH1+Hh4Tp48KDq1KlT5DUDgLsw5hYAPNy2bdt04cIF3XvvvQoNDXX4161bN61du1YDBw7U4cOH9cILL+jw4cP66KOP7HdT8PLykiQ9+OCD2r17t2bMmKH9+/fryJEj2rp1q2bMmOHO3QMAlyLcAoCHW7t2rdq0aaPAwMAc8+666y7t27dPGRkZWrhwobZs2aLevXtr1apVGj16tCSpTJkykqRGjRrpnXfe0ZEjRzR48GD17dtXixYtUtWqVYt1fwCgKHkZ2feRAQCYymuvvabVq1fnGK4AAGbGmFsAMImVK1cqMjJSlSpV0vfff69ly5ZpyJAh7i4LAIoV4RYATOLo0aN67bXXdOHCBVWvXl0jRozQQw895O6yAKBYMSwBAAAApsEFZQAAADANwi0AAABMg3ALAAAA0yDcAgAAwDQItwAAADANwi0AAABMg3ALAAAA0yDcAgAAwDT+D4WnswqVzzLcAAAAAElFTkSuQmCC",
      "text/plain": [
       "<Figure size 800x500 with 1 Axes>"
      ]
     },
     "metadata": {},
     "output_type": "display_data"
    }
   ],
   "source": [
    "# Histogram for age distribution\n",
    "plt.figure(figsize=(8, 5))\n",
    "sns.histplot(titanic_data['Age'], bins=30, kde=False)\n",
    "plt.title('Age Distribution among Passengers')\n",
    "plt.xlabel('Age')\n",
    "plt.ylabel('Count')\n",
    "plt.show()\n"
   ]
  },
  {
   "attachments": {},
   "cell_type": "markdown",
   "id": "7636bbcb-fab3-4d20-8cac-642fd6aa5ed8",
   "metadata": {},
   "source": [
    "5.\tStatistical Insights: Applying statistical measures to quantify relationships and differences observed in the data. For example, calculating the mean and median of ages in different survival groups, or performing chi-squared tests to assess the significance of observed patterns.\n",
    "6.\tOutliers and Anomalies: Identifying and interpreting any outliers or anomalies in the data, such as unusually high fares or ages, which could indicate data entry errors or require special consideration\n"
   ]
  },
  {
   "attachments": {},
   "cell_type": "markdown",
   "id": "66ba4e65-4d8d-48e5-b9db-dffe1fe75cea",
   "metadata": {},
   "source": [
    "Queries\n",
    "\n",
    "Q- How did survival rates differ between different passenger classes?\n"
   ]
  },
  {
   "cell_type": "code",
   "execution_count": 10,
   "id": "ab69c590-e355-4545-968b-061e62d86c3c",
   "metadata": {},
   "outputs": [
    {
     "name": "stdout",
     "output_type": "stream",
     "text": [
      "Pclass\n",
      "1    0.629630\n",
      "2    0.472826\n",
      "3    0.242363\n",
      "Name: Survived, dtype: float64\n",
      "Sex\n",
      "female    0.742038\n",
      "male      0.188908\n",
      "Name: Survived, dtype: float64\n",
      "AgeGroup\n",
      "Child          0.573529\n",
      "Teenager       0.488889\n",
      "Young Adult    0.344383\n",
      "Adult          0.416268\n",
      "Senior         0.240000\n",
      "Name: Survived, dtype: float64\n"
     ]
    },
    {
     "name": "stderr",
     "output_type": "stream",
     "text": [
      "/tmp/ipykernel_4613/3787010155.py:5: FutureWarning: The default of observed=False is deprecated and will be changed to True in a future version of pandas. Pass observed=False to retain current behavior or observed=True to adopt the future default and silence this warning.\n",
      "  print(titanic_data.groupby('Sex')['Survived'].mean())\n",
      "/tmp/ipykernel_4613/3787010155.py:8: FutureWarning: The default of observed=False is deprecated and will be changed to True in a future version of pandas. Pass observed=False to retain current behavior or observed=True to adopt the future default and silence this warning.\n",
      "  print(titanic_data.groupby('AgeGroup')['Survived'].mean())\n"
     ]
    }
   ],
   "source": [
    "# Survival rate by passenger class\n",
    "print(titanic_data.groupby('Pclass')['Survived'].mean())\n",
    "\n",
    "# Survival rate by gender\n",
    "print(titanic_data.groupby('Sex')['Survived'].mean())\n",
    "\n",
    "# Survival rate by age groups\n",
    "print(titanic_data.groupby('AgeGroup')['Survived'].mean())\n"
   ]
  },
  {
   "attachments": {},
   "cell_type": "markdown",
   "id": "95c13c8e-c4b4-4e74-b6b9-8e20c61ddb0d",
   "metadata": {},
   "source": [
    "Q- Did family size impact survival chances?!"
   ]
  },
  {
   "cell_type": "code",
   "execution_count": 11,
   "id": "01b40a49-f94a-4819-bce3-64df3dfa11c9",
   "metadata": {},
   "outputs": [
    {
     "name": "stdout",
     "output_type": "stream",
     "text": [
      "FamilySize\n",
      "0     0.303538\n",
      "1     0.552795\n",
      "2     0.578431\n",
      "3     0.724138\n",
      "4     0.200000\n",
      "5     0.136364\n",
      "6     0.333333\n",
      "7     0.000000\n",
      "10    0.000000\n",
      "Name: Survived, dtype: float64\n"
     ]
    }
   ],
   "source": [
    "# Survival rate by family size\n",
    "print(titanic_data.groupby('FamilySize')['Survived'].mean())"
   ]
  },
  {
   "attachments": {},
   "cell_type": "markdown",
   "id": "fd6322fd-0391-41d3-804e-4f3982ec89fe",
   "metadata": {},
   "source": [
    "QQ- How did the point of embarkation relate to survival rates?"
   ]
  },
  {
   "cell_type": "code",
   "execution_count": 12,
   "id": "fb3b3655-eaf3-4fb5-b435-885a9896963d",
   "metadata": {},
   "outputs": [
    {
     "name": "stdout",
     "output_type": "stream",
     "text": [
      "Embarked\n",
      "C    0.553571\n",
      "Q    0.389610\n",
      "S    0.339009\n",
      "Name: Survived, dtype: float64\n"
     ]
    },
    {
     "name": "stderr",
     "output_type": "stream",
     "text": [
      "/tmp/ipykernel_4613/1260500636.py:2: FutureWarning: The default of observed=False is deprecated and will be changed to True in a future version of pandas. Pass observed=False to retain current behavior or observed=True to adopt the future default and silence this warning.\n",
      "  print(titanic_data.groupby('Embarked')['Survived'].mean())\n"
     ]
    }
   ],
   "source": [
    "# Survival rate by point of embarkation\n",
    "print(titanic_data.groupby('Embarked')['Survived'].mean())"
   ]
  },
  {
   "attachments": {},
   "cell_type": "markdown",
   "id": "0df14e6c-7695-40c6-b30d-60bb0cac71d3",
   "metadata": {},
   "source": [
    "Q- Was there a correlation between fare price and survival?!"
   ]
  },
  {
   "cell_type": "code",
   "execution_count": 13,
   "id": "deeabacf-ea69-43a6-882b-0c206a0e89c0",
   "metadata": {},
   "outputs": [
    {
     "name": "stdout",
     "output_type": "stream",
     "text": [
      "              Fare  Survived\n",
      "Fare      1.000000  0.257307\n",
      "Survived  0.257307  1.000000\n"
     ]
    }
   ],
   "source": [
    "# Correlation between fare and survival\n",
    "print(titanic_data[['Fare', 'Survived']].corr())"
   ]
  },
  {
   "cell_type": "markdown",
   "id": "b37eacd3",
   "metadata": {},
   "source": [
    "Q- How did age and sex together influence survival odds?"
   ]
  },
  {
   "cell_type": "code",
   "execution_count": 14,
   "id": "49643f0a",
   "metadata": {},
   "outputs": [
    {
     "name": "stdout",
     "output_type": "stream",
     "text": [
      "Sex     AgeGroup   \n",
      "female  Child          0.593750\n",
      "        Teenager       0.826087\n",
      "        Young Adult    0.730337\n",
      "        Adult          0.792208\n",
      "        Senior         1.000000\n",
      "male    Child          0.555556\n",
      "        Teenager       0.136364\n",
      "        Young Adult    0.156164\n",
      "        Adult          0.196970\n",
      "        Senior         0.095238\n",
      "Name: Survived, dtype: float64\n"
     ]
    },
    {
     "name": "stderr",
     "output_type": "stream",
     "text": [
      "/tmp/ipykernel_4613/4018400734.py:2: FutureWarning: The default of observed=False is deprecated and will be changed to True in a future version of pandas. Pass observed=False to retain current behavior or observed=True to adopt the future default and silence this warning.\n",
      "  print(titanic_data.groupby(['Sex', 'AgeGroup'])['Survived'].mean())\n"
     ]
    }
   ],
   "source": [
    "# Survival rate by age and gender\n",
    "print(titanic_data.groupby(['Sex', 'AgeGroup'])['Survived'].mean())"
   ]
  },
  {
   "cell_type": "markdown",
   "id": "c704d3b9",
   "metadata": {},
   "source": [
    "Q- Did the presence of cabins (cabin data availability) affect survival rates?"
   ]
  },
  {
   "cell_type": "code",
   "execution_count": 15,
   "id": "13648063",
   "metadata": {},
   "outputs": [
    {
     "name": "stdout",
     "output_type": "stream",
     "text": [
      "CabinAvailable\n",
      "0    0.299854\n",
      "1    0.666667\n",
      "Name: Survived, dtype: float64\n"
     ]
    }
   ],
   "source": [
    "# Now, you can proceed with your analysis\n",
=======
   "cell_type": "code",
   "execution_count": 5,
   "id": "c3bf346f-9f49-4372-9fa8-35568d6dd886",
   "metadata": {},
   "outputs": [
    {
     "data": {
      "image/png": "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",
      "text/plain": [
       "<Figure size 800x500 with 1 Axes>"
      ]
     },
     "metadata": {},
     "output_type": "display_data"
    }
   ],
   "source": [
    "import matplotlib.pyplot as plt\n",
    "import seaborn as sns\n",
    "\n",
    "# Setting the aesthetic style of the plots\n",
    "sns.set_style(\"whitegrid\")\n",
    "\n",
    "# Plotting the distribution of passenger classes\n",
    "plt.figure(figsize=(8, 5))\n",
    "sns.countplot(x='Pclass', data=titanic_data)\n",
    "plt.title('Distribution of Passenger Classes')\n",
    "plt.xlabel('Passenger Class')\n",
    "plt.ylabel('Count')\n",
    "plt.show()\n"
   ]
  },
  {
   "cell_type": "code",
   "execution_count": 6,
   "id": "f1a73127-bbb4-4b84-924a-97e56d1e03c6",
   "metadata": {},
   "outputs": [
    {
     "data": {
      "image/png": "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",
      "text/plain": [
       "<Figure size 800x500 with 1 Axes>"
      ]
     },
     "metadata": {},
     "output_type": "display_data"
    }
   ],
   "source": [
    "# Plotting survival rate by gender\n",
    "plt.figure(figsize=(8, 5))\n",
    "sns.barplot(x='Sex', y='Survived', data=titanic_data)\n",
    "plt.title('Survival Rate by Gender')\n",
    "plt.xlabel('Gender')\n",
    "plt.ylabel('Survival Rate')\n",
    "plt.show()\n"
   ]
  },
  {
   "cell_type": "code",
   "execution_count": 7,
   "id": "078572fe-7028-461e-916b-6003f1c3de05",
   "metadata": {},
   "outputs": [
    {
     "data": {
      "image/png": "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",
      "text/plain": [
       "<Figure size 800x500 with 1 Axes>"
      ]
     },
     "metadata": {},
     "output_type": "display_data"
    }
   ],
   "source": [
    "# Histogram for age distribution\n",
    "plt.figure(figsize=(8, 5))\n",
    "sns.histplot(titanic_data['Age'], bins=30, kde=False)\n",
    "plt.title('Age Distribution among Passengers')\n",
    "plt.xlabel('Age')\n",
    "plt.ylabel('Count')\n",
    "plt.show()\n"
   ]
  },
  {
   "attachments": {},
   "cell_type": "markdown",
   "id": "66ba4e65-4d8d-48e5-b9db-dffe1fe75cea",
   "metadata": {},
   "source": [
    "Queries\r\n",
    "\r\n",
    "Q- How did survival rates differ between different passenger classes?\r\n"
   ]
  },
  {
   "cell_type": "code",
   "execution_count": 8,
   "id": "ab69c590-e355-4545-968b-061e62d86c3c",
   "metadata": {},
   "outputs": [
    {
     "name": "stdout",
     "output_type": "stream",
     "text": [
      "Pclass\n",
      "1    0.629630\n",
      "2    0.472826\n",
      "3    0.242363\n",
      "Name: Survived, dtype: float64\n",
      "Sex\n",
      "female    0.742038\n",
      "male      0.188908\n",
      "Name: Survived, dtype: float64\n",
      "AgeGroup\n",
      "Child          0.573529\n",
      "Teenager       0.488889\n",
      "Young Adult    0.344383\n",
      "Adult          0.416268\n",
      "Senior         0.240000\n",
      "Name: Survived, dtype: float64\n"
     ]
    },
    {
     "name": "stderr",
     "output_type": "stream",
     "text": [
      "/tmp/ipykernel_3980/3787010155.py:5: FutureWarning: The default of observed=False is deprecated and will be changed to True in a future version of pandas. Pass observed=False to retain current behavior or observed=True to adopt the future default and silence this warning.\n",
      "  print(titanic_data.groupby('Sex')['Survived'].mean())\n",
      "/tmp/ipykernel_3980/3787010155.py:8: FutureWarning: The default of observed=False is deprecated and will be changed to True in a future version of pandas. Pass observed=False to retain current behavior or observed=True to adopt the future default and silence this warning.\n",
      "  print(titanic_data.groupby('AgeGroup')['Survived'].mean())\n"
     ]
    }
   ],
   "source": [
    "# Survival rate by passenger class\n",
    "print(titanic_data.groupby('Pclass')['Survived'].mean())\n",
    "\n",
    "# Survival rate by gender\n",
    "print(titanic_data.groupby('Sex')['Survived'].mean())\n",
    "\n",
    "# Survival rate by age groups\n",
    "print(titanic_data.groupby('AgeGroup')['Survived'].mean())\n"
   ]
  },
  {
   "attachments": {},
   "cell_type": "markdown",
   "id": "95c13c8e-c4b4-4e74-b6b9-8e20c61ddb0d",
   "metadata": {},
   "source": [
    "Q- Did family size impact survival chances?!"
   ]
  },
  {
   "cell_type": "code",
   "execution_count": 9,
   "id": "01b40a49-f94a-4819-bce3-64df3dfa11c9",
   "metadata": {},
   "outputs": [
    {
     "name": "stdout",
     "output_type": "stream",
     "text": [
      "FamilySize\n",
      "0     0.303538\n",
      "1     0.552795\n",
      "2     0.578431\n",
      "3     0.724138\n",
      "4     0.200000\n",
      "5     0.136364\n",
      "6     0.333333\n",
      "7     0.000000\n",
      "10    0.000000\n",
      "Name: Survived, dtype: float64\n"
     ]
    }
   ],
   "source": [
    "# Survival rate by family size\n",
    "print(titanic_data.groupby('FamilySize')['Survived'].mean())"
   ]
  },
  {
   "attachments": {},
   "cell_type": "markdown",
   "id": "fd6322fd-0391-41d3-804e-4f3982ec89fe",
   "metadata": {},
   "source": [
    "QQ- How did the point of embarkation relate to survival rates?"
   ]
  },
  {
   "cell_type": "code",
   "execution_count": 10,
   "id": "fb3b3655-eaf3-4fb5-b435-885a9896963d",
   "metadata": {},
   "outputs": [
    {
     "name": "stdout",
     "output_type": "stream",
     "text": [
      "Embarked\n",
      "C    0.553571\n",
      "Q    0.389610\n",
      "S    0.339009\n",
      "Name: Survived, dtype: float64\n"
     ]
    },
    {
     "name": "stderr",
     "output_type": "stream",
     "text": [
      "/tmp/ipykernel_3980/1260500636.py:2: FutureWarning: The default of observed=False is deprecated and will be changed to True in a future version of pandas. Pass observed=False to retain current behavior or observed=True to adopt the future default and silence this warning.\n",
      "  print(titanic_data.groupby('Embarked')['Survived'].mean())\n"
     ]
    }
   ],
   "source": [
    "# Survival rate by point of embarkation\n",
    "print(titanic_data.groupby('Embarked')['Survived'].mean())"
   ]
  },
  {
   "attachments": {},
   "cell_type": "markdown",
   "id": "0df14e6c-7695-40c6-b30d-60bb0cac71d3",
   "metadata": {},
   "source": [
    "Q- Was there a correlation between fare price and survival?!"
   ]
  },
  {
   "cell_type": "code",
   "execution_count": 11,
   "id": "deeabacf-ea69-43a6-882b-0c206a0e89c0",
   "metadata": {},
   "outputs": [
    {
     "name": "stdout",
     "output_type": "stream",
     "text": [
      "              Fare  Survived\n",
      "Fare      1.000000  0.257307\n",
      "Survived  0.257307  1.000000\n"
     ]
    }
   ],
   "source": [
    "# Correlation between fare and survival\n",
    "print(titanic_data[['Fare', 'Survived']].corr())"
   ]
  },
  {
   "attachments": {},
   "cell_type": "markdown",
   "id": "34d3c316-5549-42c9-89ce-6b7b9f63b4a4",
   "metadata": {},
   "source": [
    "Q- How did age and sex together influence survival odds?"
   ]
  },
  {
   "cell_type": "code",
   "execution_count": 12,
   "id": "18ad63d7-5413-4280-8c9f-7fc51e53c7a2",
   "metadata": {},
   "outputs": [
    {
     "name": "stdout",
     "output_type": "stream",
     "text": [
      "Sex     AgeGroup   \n",
      "female  Child          0.593750\n",
      "        Teenager       0.826087\n",
      "        Young Adult    0.730337\n",
      "        Adult          0.792208\n",
      "        Senior         1.000000\n",
      "male    Child          0.555556\n",
      "        Teenager       0.136364\n",
      "        Young Adult    0.156164\n",
      "        Adult          0.196970\n",
      "        Senior         0.095238\n",
      "Name: Survived, dtype: float64\n"
     ]
    },
    {
     "name": "stderr",
     "output_type": "stream",
     "text": [
      "/tmp/ipykernel_3980/2305371159.py:2: FutureWarning: The default of observed=False is deprecated and will be changed to True in a future version of pandas. Pass observed=False to retain current behavior or observed=True to adopt the future default and silence this warning.\n",
      "  print(titanic_data.groupby(['Sex', 'AgeGroup'])['Survived'].mean())\n"
     ]
    },
    {
     "ename": "KeyError",
     "evalue": "'Cabin'",
     "output_type": "error",
     "traceback": [
      "\u001b[0;31m---------------------------------------------------------------------------\u001b[0m",
      "\u001b[0;31mKeyError\u001b[0m                                  Traceback (most recent call last)",
      "File \u001b[0;32m~/.local/lib/python3.10/site-packages/pandas/core/indexes/base.py:3790\u001b[0m, in \u001b[0;36mIndex.get_loc\u001b[0;34m(self, key)\u001b[0m\n\u001b[1;32m   3789\u001b[0m \u001b[38;5;28;01mtry\u001b[39;00m:\n\u001b[0;32m-> 3790\u001b[0m     \u001b[38;5;28;01mreturn\u001b[39;00m \u001b[38;5;28;43mself\u001b[39;49m\u001b[38;5;241;43m.\u001b[39;49m\u001b[43m_engine\u001b[49m\u001b[38;5;241;43m.\u001b[39;49m\u001b[43mget_loc\u001b[49m\u001b[43m(\u001b[49m\u001b[43mcasted_key\u001b[49m\u001b[43m)\u001b[49m\n\u001b[1;32m   3791\u001b[0m \u001b[38;5;28;01mexcept\u001b[39;00m \u001b[38;5;167;01mKeyError\u001b[39;00m \u001b[38;5;28;01mas\u001b[39;00m err:\n",
      "File \u001b[0;32mindex.pyx:152\u001b[0m, in \u001b[0;36mpandas._libs.index.IndexEngine.get_loc\u001b[0;34m()\u001b[0m\n",
      "File \u001b[0;32mindex.pyx:181\u001b[0m, in \u001b[0;36mpandas._libs.index.IndexEngine.get_loc\u001b[0;34m()\u001b[0m\n",
      "File \u001b[0;32mpandas/_libs/hashtable_class_helper.pxi:7080\u001b[0m, in \u001b[0;36mpandas._libs.hashtable.PyObjectHashTable.get_item\u001b[0;34m()\u001b[0m\n",
      "File \u001b[0;32mpandas/_libs/hashtable_class_helper.pxi:7088\u001b[0m, in \u001b[0;36mpandas._libs.hashtable.PyObjectHashTable.get_item\u001b[0;34m()\u001b[0m\n",
      "\u001b[0;31mKeyError\u001b[0m: 'Cabin'",
      "\nThe above exception was the direct cause of the following exception:\n",
      "\u001b[0;31mKeyError\u001b[0m                                  Traceback (most recent call last)",
      "Cell \u001b[0;32mIn[12], line 4\u001b[0m\n\u001b[1;32m      2\u001b[0m \u001b[38;5;28mprint\u001b[39m(titanic_data\u001b[38;5;241m.\u001b[39mgroupby([\u001b[38;5;124m'\u001b[39m\u001b[38;5;124mSex\u001b[39m\u001b[38;5;124m'\u001b[39m, \u001b[38;5;124m'\u001b[39m\u001b[38;5;124mAgeGroup\u001b[39m\u001b[38;5;124m'\u001b[39m])[\u001b[38;5;124m'\u001b[39m\u001b[38;5;124mSurvived\u001b[39m\u001b[38;5;124m'\u001b[39m]\u001b[38;5;241m.\u001b[39mmean())\n\u001b[1;32m      3\u001b[0m \u001b[38;5;66;03m# Creating a new column 'CabinAvailable' indicating whether cabin information is available\u001b[39;00m\n\u001b[0;32m----> 4\u001b[0m titanic_data[\u001b[38;5;124m'\u001b[39m\u001b[38;5;124mCabinAvailable\u001b[39m\u001b[38;5;124m'\u001b[39m] \u001b[38;5;241m=\u001b[39m \u001b[43mtitanic_data\u001b[49m\u001b[43m[\u001b[49m\u001b[38;5;124;43m'\u001b[39;49m\u001b[38;5;124;43mCabin\u001b[39;49m\u001b[38;5;124;43m'\u001b[39;49m\u001b[43m]\u001b[49m\u001b[38;5;241m.\u001b[39mapply(\u001b[38;5;28;01mlambda\u001b[39;00m x: \u001b[38;5;241m0\u001b[39m \u001b[38;5;28;01mif\u001b[39;00m pd\u001b[38;5;241m.\u001b[39misnull(x) \u001b[38;5;28;01melse\u001b[39;00m \u001b[38;5;241m1\u001b[39m)\n",
      "File \u001b[0;32m~/.local/lib/python3.10/site-packages/pandas/core/frame.py:3893\u001b[0m, in \u001b[0;36mDataFrame.__getitem__\u001b[0;34m(self, key)\u001b[0m\n\u001b[1;32m   3891\u001b[0m \u001b[38;5;28;01mif\u001b[39;00m \u001b[38;5;28mself\u001b[39m\u001b[38;5;241m.\u001b[39mcolumns\u001b[38;5;241m.\u001b[39mnlevels \u001b[38;5;241m>\u001b[39m \u001b[38;5;241m1\u001b[39m:\n\u001b[1;32m   3892\u001b[0m     \u001b[38;5;28;01mreturn\u001b[39;00m \u001b[38;5;28mself\u001b[39m\u001b[38;5;241m.\u001b[39m_getitem_multilevel(key)\n\u001b[0;32m-> 3893\u001b[0m indexer \u001b[38;5;241m=\u001b[39m \u001b[38;5;28;43mself\u001b[39;49m\u001b[38;5;241;43m.\u001b[39;49m\u001b[43mcolumns\u001b[49m\u001b[38;5;241;43m.\u001b[39;49m\u001b[43mget_loc\u001b[49m\u001b[43m(\u001b[49m\u001b[43mkey\u001b[49m\u001b[43m)\u001b[49m\n\u001b[1;32m   3894\u001b[0m \u001b[38;5;28;01mif\u001b[39;00m is_integer(indexer):\n\u001b[1;32m   3895\u001b[0m     indexer \u001b[38;5;241m=\u001b[39m [indexer]\n",
      "File \u001b[0;32m~/.local/lib/python3.10/site-packages/pandas/core/indexes/base.py:3797\u001b[0m, in \u001b[0;36mIndex.get_loc\u001b[0;34m(self, key)\u001b[0m\n\u001b[1;32m   3792\u001b[0m     \u001b[38;5;28;01mif\u001b[39;00m \u001b[38;5;28misinstance\u001b[39m(casted_key, \u001b[38;5;28mslice\u001b[39m) \u001b[38;5;129;01mor\u001b[39;00m (\n\u001b[1;32m   3793\u001b[0m         \u001b[38;5;28misinstance\u001b[39m(casted_key, abc\u001b[38;5;241m.\u001b[39mIterable)\n\u001b[1;32m   3794\u001b[0m         \u001b[38;5;129;01mand\u001b[39;00m \u001b[38;5;28many\u001b[39m(\u001b[38;5;28misinstance\u001b[39m(x, \u001b[38;5;28mslice\u001b[39m) \u001b[38;5;28;01mfor\u001b[39;00m x \u001b[38;5;129;01min\u001b[39;00m casted_key)\n\u001b[1;32m   3795\u001b[0m     ):\n\u001b[1;32m   3796\u001b[0m         \u001b[38;5;28;01mraise\u001b[39;00m InvalidIndexError(key)\n\u001b[0;32m-> 3797\u001b[0m     \u001b[38;5;28;01mraise\u001b[39;00m \u001b[38;5;167;01mKeyError\u001b[39;00m(key) \u001b[38;5;28;01mfrom\u001b[39;00m \u001b[38;5;21;01merr\u001b[39;00m\n\u001b[1;32m   3798\u001b[0m \u001b[38;5;28;01mexcept\u001b[39;00m \u001b[38;5;167;01mTypeError\u001b[39;00m:\n\u001b[1;32m   3799\u001b[0m     \u001b[38;5;66;03m# If we have a listlike key, _check_indexing_error will raise\u001b[39;00m\n\u001b[1;32m   3800\u001b[0m     \u001b[38;5;66;03m#  InvalidIndexError. Otherwise we fall through and re-raise\u001b[39;00m\n\u001b[1;32m   3801\u001b[0m     \u001b[38;5;66;03m#  the TypeError.\u001b[39;00m\n\u001b[1;32m   3802\u001b[0m     \u001b[38;5;28mself\u001b[39m\u001b[38;5;241m.\u001b[39m_check_indexing_error(key)\n",
      "\u001b[0;31mKeyError\u001b[0m: 'Cabin'"
     ]
    }
   ],
   "source": [
    "# Survival rate by age and gender\n",
    "print(titanic_data.groupby(['Sex', 'AgeGroup'])['Survived'].mean())\n",
    "# Creating a new column 'CabinAvailable' indicating whether cabin information is available\n",
    "titanic_data['CabinAvailable'] = titanic_data['Cabin'].apply(lambda x: 0 if pd.isnull(x) else 1)\n"
   ]
  },
  {
   "attachments": {},
   "cell_type": "markdown",
   "id": "b9e75631-b15c-47da-9120-6cc190f03dd5",
   "metadata": {},
   "source": [
    "Q- Did the presence of cabins (cabin data availability) affect survival rates?"
   ]
  },
  {
   "cell_type": "code",
   "execution_count": null,
   "id": "d3d95a36-1bb6-42a5-8b22-7aaa085b1492",
   "metadata": {},
   "outputs": [],
   "source": [
    "# Survival rate based on cabin availability\n",
>>>>>>> 16b61be8ca5d57a590425fe16ef7e24a523d0fb6
    "print(titanic_data.groupby('CabinAvailable')['Survived'].mean())"
   ]
  },
  {
   "cell_type": "markdown",
<<<<<<< HEAD
   "id": "1f0d86dc",
=======
   "id": "21bb3252-d265-4061-bf60-155243dceca0",
>>>>>>> 16b61be8ca5d57a590425fe16ef7e24a523d0fb6
   "metadata": {},
   "source": [
    "Q- What was the distribution of passengers by age, gender, and class?"
   ]
  },
  {
   "cell_type": "code",
<<<<<<< HEAD
   "execution_count": 16,
   "id": "52266327-7dab-4365-9563-6b41068b8c37",
   "metadata": {},
   "outputs": [
    {
     "name": "stdout",
     "output_type": "stream",
     "text": [
      "AgeGroup\n",
      "Young Adult    543\n",
      "Adult          209\n",
      "Child           68\n",
      "Teenager        45\n",
      "Senior          25\n",
      "Name: count, dtype: int64\n",
      "Sex\n",
      "male      577\n",
      "female    314\n",
      "Name: count, dtype: int64\n",
      "Pclass\n",
      "3    491\n",
      "1    216\n",
      "2    184\n",
      "Name: count, dtype: int64\n"
     ]
    }
   ],
=======
   "execution_count": null,
   "id": "52266327-7dab-4365-9563-6b41068b8c37",
   "metadata": {},
   "outputs": [],
>>>>>>> 16b61be8ca5d57a590425fe16ef7e24a523d0fb6
   "source": [
    "# Distribution of passengers by age\n",
    "print(titanic_data['AgeGroup'].value_counts())\n",
    "\n",
    "# Distribution of passengers by gender\n",
    "print(titanic_data['Sex'].value_counts())\n",
    "\n",
    "# Distribution of passengers by class\n",
    "print(titanic_data['Pclass'].value_counts())\n"
   ]
  },
  {
   "cell_type": "markdown",
   "id": "cfc73813-f2fa-4cfd-b1c4-264c8efbac55",
   "metadata": {},
   "source": [
<<<<<<< HEAD
    "# In-depth analysis\n",
=======
    "In-depth analysis\n",
>>>>>>> 16b61be8ca5d57a590425fe16ef7e24a523d0fb6
    "\n",
    "Data cleaning also involves feature engineering, where new relevant features are created from existing data. An example is creating a 'FamilySize' feature by summing 'SibSp' (number of siblings/spouses aboard) and 'Parch' (number of parents/children aboard).\n",
    "The cleaned and preprocessed dataset is then ready for exploratory data analysis, where we can delve deeper into understanding the relationships between different variables and their impact on survival rates. This preparatory step is crucial for any subsequent statistical analysis or predictive modeling.\n",
    "\n",
    "1.\tDataset Composition: The dataset contains 891 entries with 12 columns. These columns are Passenger, Survived, Pclass (Passenger Class), Name, Sex, Age, SibSp (Siblings/Spouses Aboard), Parch (Parents/Children Aboard), Ticket, Fare, Cabin, and Embarked (Port of Embarkation).\n",
    "2.\tMissing Values: There are missing values in the Age, Cabin, and Embarked columns. Specifically:\n",
    "•\tAge has 714 out of 891 non-null entries, suggesting a need for imputation or handling of missing data.\n",
    "•\tCabin has a significant amount of missing data, with only 204 non-null entries. This might limit its use in analysis unless the missing data is addressed.\n",
    "•\tEmbarked has 889 non-null entries, indicating only a few missing values.\n",
    "3.\tStatistical Overview:\n",
    "•\tSurvived: The mean survival rate is approximately 38.4%, indicating that less than half of the passengers in this dataset survived.\n",
    "•\tPclass: The mean passenger class is around 2.3, suggesting a slightly higher number of passengers in the lower classes (2nd and 3rd).\n",
    "•\tAge: The average age of passengers is about 29.7 years, with a standard deviation of 14.5 years. The age range is broad, from 0.42 to 80 years.\n",
    "•\tSibSp and Parch: Most passengers did not travel with siblings, spouses, parents, or children. This suggests that a large number of passengers were traveling alone.\n",
    "•\tFare: There is a wide range in ticket fares, from 0 to 512.33, with a mean fare of about 32.20. This variation in fare might correlate with passenger class.\n"
   ]
  },
  {
   "cell_type": "markdown",
   "id": "c6656d3d-0e1e-4376-a473-831eabb0aaac",
   "metadata": {},
   "source": [
<<<<<<< HEAD
    "# Conclusion\n",
=======
    "Conclusion\n",
>>>>>>> 16b61be8ca5d57a590425fe16ef7e24a523d0fb6
    "The analysis of the Titanic dataset provides insightful revelations about the socio-economic and demographic factors influencing survival rates during the tragic maritime disaster. Key findings indicate that passenger class had a significant impact on survival chances, with first-class passengers enjoying higher survival rates, likely due to better access to lifeboats and emergency resources. Gender played a crucial role, as women had markedly higher survival rates, reflecting the era's societal norms and the \"women and children first\" policy during the evacuation process.\n",
    "Age was another determining factor, where children and younger passengers had a higher likelihood of survival compared to older passengers. This could be attributed to prioritization in rescue efforts. Family size also influenced survival odds, with those having small to medium-sized families faring better than those traveling alone or with large families.\n",
    "Additionally, the fare paid and embarkation point emerged as significant variables, suggesting a link between economic status, point of origin, and survival probability.\n",
    "These insights not only shed light on the human aspects of the Titanic disaster but also illustrate broader social themes of inequality and privilege. The analysis serves as a poignant reminder of how, even in times of crisis, social hierarchies and human biases can profoundly impact outcomes\n"
   ]
  },
  {
<<<<<<< HEAD
   "cell_type": "markdown",
   "id": "29dcbdc2-980c-4bb6-8ca0-9c0d86b58a75",
   "metadata": {},
   "source": [
    "## Project Roles"
   ]
  },
  {
   "attachments": {},
   "cell_type": "markdown",
   "id": "ecc1ff05-9023-435d-a025-106c951ed261",
   "metadata": {},
   "source": [
    "Data Analyst & Researcher:\n",
    "\n",
    "Team Member: Imisha Juneja\n",
    "\n",
    "Responsibilities:\n",
    "\n",
    "•\tIdentify and download the Titanic dataset.\n",
    "•\tResearch the context and historical significance of the data.\n",
    "•\tDevelop 6-10 meaningful questions that the analysis aims to answer.\n",
    "•\tGather additional resources and references that might provide insights or comparative data.\n",
    "\n",
    "Skills Needed: Good research skills, ability to formulate insightful questions, basic understanding of the dataset's context.\n",
    "\n",
    "Data Engineer (Preprocessing & Cleaning):\n",
    "\n",
    "Team Member: Anthony Aguilar\n",
    "\n",
    "Responsibilities:\n",
    "\n",
    "•\tLoad the dataset into a Pandas DataFrame.\n",
    "•\tPerform data cleaning and preprocessing, such as handling missing values, outlier detection, and data normalization.\n",
    "•\tDocument the preprocessing steps and rationale.\n",
    "\n",
    "Skills Needed: Proficiency in Python, especially with Pandas and NumPy, diligence, understanding of data cleaning techniques.\n",
    "\n",
    "Project Manager (PM):\n",
    "\n",
    "Responsibilities:\n",
    "\n",
    "•\tSupervise all responsibilities on this project and provide general help in all regards\n",
    "•\tHandled all communicatory actions that the group needed (Schedules meeting times, assigned roles to members, etc.)\n",
    "•\tWork to counteract or mitigate any issue the group ran into as soon as possible\n",
    "\n",
    "Skills Needed: Communication, Organization, Management Skills, Cooperation, Teamwork, ability to get everyone in the group onto one page at all times\n",
    "\n",
    "Storyteller & Writer (Insights & Communication):\n",
    "\n",
    "Team Member: Brad Love\n",
    "\n",
    "Responsibilities:\n",
    "\n",
    "•\tAnalyze the results from the queries and draw insights.\n",
    "•\tCraft a narrative or story that communicates these insights in an engaging and understandable manner.\n",
    "•\tWrite the Markdown prose for the tutorial, ensuring it connects well with the code and visualizations.\n",
    "•\tOversee the publication of the GitHub Pages.\n",
    "\n",
    "Skills Needed: Strong writing skills, ability to translate data insights into stories, basic understanding of Git and GitHub Pages, knack for simplifying complex information.\n"
   ]
=======
   "cell_type": "code",
   "execution_count": null,
   "id": "aafc2fc4-55fc-47cf-b0e1-56a48391ca91",
   "metadata": {},
   "outputs": [],
   "source": []
>>>>>>> 16b61be8ca5d57a590425fe16ef7e24a523d0fb6
  }
 ],
 "metadata": {
  "kernelspec": {
   "display_name": "Python 3 (ipykernel)",
   "language": "python",
   "name": "python3"
  },
  "language_info": {
   "codemirror_mode": {
    "name": "ipython",
    "version": 3
   },
   "file_extension": ".py",
   "mimetype": "text/x-python",
   "name": "python",
   "nbconvert_exporter": "python",
   "pygments_lexer": "ipython3",
   "version": "3.10.13"
  }
 },
 "nbformat": 4,
 "nbformat_minor": 5
}
