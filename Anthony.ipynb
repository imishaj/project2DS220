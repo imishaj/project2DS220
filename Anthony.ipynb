{
 "cells": [
  {
   "attachments": {},
   "cell_type": "markdown",
   "id": "9196b968-b77c-4939-b14e-71e9692570bf",
   "metadata": {},
   "source": [
    "Introduction\n",
    "\r\n",
    "The RMS Titanic, often remembered as a symbol of early 20th-century maritime ambition, tragically became an enduring emblem of disaster and human loss. Launched in 1912, the Titanic was celebrated as the largest and most luxurious ocean liner of its time, a marvel of engineering and opulence. Its first voyage from Southampton to New York City was a highly anticipated event, a true worldwide spectacle\r\n"
   ]
  },
  {
   "cell_type": "markdown",
   "id": "b03dfd12-cbbf-4d55-9f23-f391121eadf6",
   "metadata": {},
   "source": [
    "However, this inaugural journey abruptly turned into one of history's most poignant tragedies. On the night of April 14, 1912, the Titanic struck a massive iceberg in the North Atlantic Ocean. The collision resulted in ship's sinking in the early hours of April 15, leading to many casualties, such as over 1,500 lost lives, from a total of over 2,200 passengers and crew. This catastrophic event shocked the world, highlighting the fallibility of even the most advanced technological achievements and leading to significant improvements in maritime safety regulations.\n",
    "The Titanic dataset, a compilation of passenger and crew information, serves as a gateway to understanding this historic event through the lens of data analysis. It provides details such as passenger class, age, gender, family size, ticket fare, and embarkation point, offering a snapshot of the socio-economic diversity aboard the ill-fated vessel. By analyzing this dataset, we can glean insights into how these variables may have influenced the chances of survival during the disaster."
   ]
  },
  {
   "attachments": {},
   "cell_type": "markdown",
   "id": "ba00613b-5956-47f0-9b6d-d91ec8da8362",
   "metadata": {},
   "source": [
    "Data Exploration and Analysis\n",
    "\r\n",
    "In the data exploration and cleaning phase for the Titanic dataset analysis, we start by importing necessary libraries and loading the dataset using pandas. Thepds.read_csv() function is utilized to import the Titanic data into a DataFrame, allowing for easy manipulation and analysis.\r\n"
   ]
  },
  {
   "cell_type": "code",
   "execution_count": 1,
   "id": "3a274ee6-bbc3-4ee0-845d-7499d1429c16",
   "metadata": {},
   "outputs": [],
   "source": [
    "import pandas as pd\n",
    "\n",
    "# Load the dataset\n",
    "titanic_data = pd.read_csv('titanic.csv')"
   ]
  },
  {
   "attachments": {},
   "cell_type": "markdown",
   "id": "9582ca6f-ff47-4171-9031-5cd8ab2742e1",
   "metadata": {},
   "source": [
    "Initially, a thorough examination of the dataset is conducted using functions like df.head() for a preview of the data and pd.info() to understand data types and identify columns with missing values. The pd.describe() function provides a statistical summary of numerical columns, offering insights into distributions and potential outliers."
   ]
  },
  {
   "cell_type": "code",
   "execution_count": 2,
   "id": "7c57b5a6-6d88-4358-b232-711845f0f502",
   "metadata": {},
   "outputs": [],
   "source": [
    "# Handling missing values\n",
    "# Option 1: Fill missing 'Age' values with the median age\n",
    "titanic_data['Age'].fillna(titanic_data['Age'].median(), inplace=True)\n",
    "# Option 2: Drop the 'Cabin' column due to a high number of missing values\n",
    "titanic_data.drop('Cabin', axis=1, inplace=True)\n",
    "# Option 3: Fill missing 'Embarked' values with the mode (most common value)\n",
    "titanic_data['Embarked'].fillna(titanic_data['Embarked'].mode()[0], inplace=True)"
   ]
  },
  {
   "attachments": {},
   "cell_type": "markdown",
   "id": "4aa0c113-30b7-4b58-93d5-af1efe20332f",
   "metadata": {},
   "source": [
    "Additionally, transforming categorical variables into a numerical format is essential for certain types of analysis. This is achieved using techniques like one-hot encoding or label encoding. For example, the 'Sex' column, which contains gender information, can be converted using a mapping function: df['Sex'] = df['Sex'].map({'male': 0, 'female': 1})."
   ]
  },
  {
   "cell_type": "code",
   "execution_count": 3,
   "id": "6a7b9431-8aa4-4f6f-abbc-461607e49c7e",
   "metadata": {},
   "outputs": [],
   "source": [
    "# Data type conversion\n",
    "# Convert 'Sex' to a categorical variable\n",
    "titanic_data['Sex'] = titanic_data['Sex'].astype('category')\n",
    "\n",
    "# Convert 'Embarked' to a categorical variable\n",
    "titanic_data['Embarked'] = titanic_data['Embarked'].astype('category')\n",
    "\n",
    "# Feature engineering\n",
    "# Creating a new feature 'FamilySize'\n",
    "titanic_data['FamilySize'] = titanic_data['SibSp'] + titanic_data['Parch']\n",
    "\n",
    "# Categorizing 'Age' into groups (Optional)\n",
    "bins = [0, 12, 18, 35, 60, 80]\n",
    "labels = ['Child', 'Teenager', 'Young Adult', 'Adult', 'Senior']\n",
    "titanic_data['AgeGroup'] = pd.cut(titanic_data['Age'], bins=bins, labels=labels, right=False)\n"
   ]
  },
  {
   "cell_type": "markdown",
   "id": "f22a60ae-e274-49b0-8704-b736203b5cf7",
   "metadata": {},
   "source": [
    "Additionally, transforming categorical variables into a numerical format is essential for certain types of analysis. This is achieved using techniques like one-hot encoding or label encoding. For example, the 'Sex' column, which contains gender information, can be converted using a mapping function: df['Sex'] = df['Sex'].map({'male': 0, 'female': 1})."
   ]
  },
  {
   "attachments": {},
   "cell_type": "markdown",
   "id": "4f73777e-7d99-40a0-bc2a-11dd75b2cca7",
   "metadata": {},
   "source": [
    "Exploratory Data Analysis\r\n",
    "1.\tData Overview: The Titanic dataset includes various features like Passenger Class (Pclass), Name, Sex, Age, Siblings/Spouses Aboard (SibSp), Parents/Children Aboard (Parch), Ticket Number, Fare, Cabin, and Embarkation Point (Embarked). The target variable is Survival, indicating whether a passenger survived the disaster.\r\n"
   ]
  },
  {
   "cell_type": "code",
   "execution_count": 4,
   "id": "1222f512-40f6-446b-81f6-4c1ba69b7ff7",
   "metadata": {},
   "outputs": [
    {
     "name": "stdout",
     "output_type": "stream",
     "text": [
      "   PassengerId  Survived  Pclass  \\\n",
      "0            1         0       3   \n",
      "1            2         1       1   \n",
      "2            3         1       3   \n",
      "3            4         1       1   \n",
      "4            5         0       3   \n",
      "\n",
      "                                                Name     Sex   Age  SibSp  \\\n",
      "0                            Braund, Mr. Owen Harris    male  22.0      1   \n",
      "1  Cumings, Mrs. John Bradley (Florence Briggs Th...  female  38.0      1   \n",
      "2                             Heikkinen, Miss. Laina  female  26.0      0   \n",
      "3       Futrelle, Mrs. Jacques Heath (Lily May Peel)  female  35.0      1   \n",
      "4                           Allen, Mr. William Henry    male  35.0      0   \n",
      "\n",
      "   Parch            Ticket     Fare Embarked  FamilySize     AgeGroup  \n",
      "0      0         A/5 21171   7.2500        S           1  Young Adult  \n",
      "1      0          PC 17599  71.2833        C           1        Adult  \n",
      "2      0  STON/O2. 3101282   7.9250        S           0  Young Adult  \n",
      "3      0            113803  53.1000        S           1        Adult  \n",
      "4      0            373450   8.0500        S           0        Adult  \n"
     ]
    }
   ],
   "source": [
    "# Display the cleaned dataset\n",
    "print(titanic_data.head())"
   ]
  },
  {
   "cell_type": "markdown",
   "id": "27f2b722-57c1-4a51-8a72-b5cff709afe1",
   "metadata": {},
   "source": [
    "2.\tFeature Analysis:\n",
    "•\tPassenger Class (Pclass): Analysis of this categorical variable can reveal the socio-economic distribution of passengers and its impact on survival rates.\n",
    "•\tSex and Age: Investigating these features helps in understanding demographic patterns and their influence on survival. Visualizations like bar graphs for gender-based survival and age histograms provide clear insights.\n",
    "•\tFamily Size: Combining SibSp and Parch to create a 'Family Size' feature can show the effect of traveling with family on survival.\n",
    "3.\tCorrelation with Survival: Analyzing how different features correlate with the survival rate is key. For instance, higher survival rates among women and children, and variations in survival rates across different passenger classes.\n",
    "4.\tData Visualization: Utilizing plots such as histograms, bar charts, and box plots helps in visualizing the distribution of various features and their relationship with survival. For example, a bar chart showing the survival rate across different classes or a box plot of ages in different Pclass categories.\n",
    "\n"
   ]
  },
  {
   "cell_type": "code",
   "execution_count": 5,
   "id": "c3bf346f-9f49-4372-9fa8-35568d6dd886",
   "metadata": {},
   "outputs": [
    {
     "data": {
      "image/png": "[encoded data removed]",
      "text/plain": [
       "<Figure size 800x500 with 1 Axes>"
      ]
     },
     "metadata": {},
     "output_type": "display_data"
    }
   ],
   "source": [
    "import matplotlib.pyplot as plt\n",
    "import seaborn as sns\n",
    "\n",
    "# Setting the aesthetic style of the plots\n",
    "sns.set_style(\"whitegrid\")\n",
    "\n",
    "# Plotting the distribution of passenger classes\n",
    "plt.figure(figsize=(8, 5))\n",
    "sns.countplot(x='Pclass', data=titanic_data)\n",
    "plt.title('Distribution of Passenger Classes')\n",
    "plt.xlabel('Passenger Class')\n",
    "plt.ylabel('Count')\n",
    "plt.show()\n"
   ]
  },
  {
   "cell_type": "code",
   "execution_count": 6,
   "id": "f1a73127-bbb4-4b84-924a-97e56d1e03c6",
   "metadata": {},
   "outputs": [
    {
     "data": {
      "image/png": "[encoded data removed]",
      "text/plain": [
       "<Figure size 800x500 with 1 Axes>"
      ]
     },
     "metadata": {},
     "output_type": "display_data"
    }
   ],
   "source": [
    "# Plotting survival rate by gender\n",
    "plt.figure(figsize=(8, 5))\n",
    "sns.barplot(x='Sex', y='Survived', data=titanic_data)\n",
    "plt.title('Survival Rate by Gender')\n",
    "plt.xlabel('Gender')\n",
    "plt.ylabel('Survival Rate')\n",
    "plt.show()\n"
   ]
  },
  {
   "cell_type": "code",
   "execution_count": 7,
   "id": "078572fe-7028-461e-916b-6003f1c3de05",
   "metadata": {},
   "outputs": [
    {
     "data": {
      "image/png": "[encoded data removed]",
      "text/plain": [
       "<Figure size 800x500 with 1 Axes>"
      ]
     },
     "metadata": {},
     "output_type": "display_data"
    }
   ],
   "source": [
    "# Histogram for age distribution\n",
    "plt.figure(figsize=(8, 5))\n",
    "sns.histplot(titanic_data['Age'], bins=30, kde=False)\n",
    "plt.title('Age Distribution among Passengers')\n",
    "plt.xlabel('Age')\n",
    "plt.ylabel('Count')\n",
    "plt.show()\n"
   ]
  },
  {
   "attachments": {},
   "cell_type": "markdown",
   "id": "66ba4e65-4d8d-48e5-b9db-dffe1fe75cea",
   "metadata": {},
   "source": [
    "Queries\r\n",
    "\r\n",
    "Q- How did survival rates differ between different passenger classes?\r\n"
   ]
  },
  {
   "cell_type": "code",
   "execution_count": 8,
   "id": "ab69c590-e355-4545-968b-061e62d86c3c",
   "metadata": {},
   "outputs": [
    {
     "name": "stdout",
     "output_type": "stream",
     "text": [
      "Pclass\n",
      "1    0.629630\n",
      "2    0.472826\n",
      "3    0.242363\n",
      "Name: Survived, dtype: float64\n",
      "Sex\n",
      "female    0.742038\n",
      "male      0.188908\n",
      "Name: Survived, dtype: float64\n",
      "AgeGroup\n",
      "Child          0.573529\n",
      "Teenager       0.488889\n",
      "Young Adult    0.344383\n",
      "Adult          0.416268\n",
      "Senior         0.240000\n",
      "Name: Survived, dtype: float64\n"
     ]
    },
    {
     "name": "stderr",
     "output_type": "stream",
     "text": [
      "/tmp/ipykernel_3980/3787010155.py:5: FutureWarning: The default of observed=False is deprecated and will be changed to True in a future version of pandas. Pass observed=False to retain current behavior or observed=True to adopt the future default and silence this warning.\n",
      "  print(titanic_data.groupby('Sex')['Survived'].mean())\n",
      "/tmp/ipykernel_3980/3787010155.py:8: FutureWarning: The default of observed=False is deprecated and will be changed to True in a future version of pandas. Pass observed=False to retain current behavior or observed=True to adopt the future default and silence this warning.\n",
      "  print(titanic_data.groupby('AgeGroup')['Survived'].mean())\n"
     ]
    }
   ],
   "source": [
    "# Survival rate by passenger class\n",
    "print(titanic_data.groupby('Pclass')['Survived'].mean())\n",
    "\n",
    "# Survival rate by gender\n",
    "print(titanic_data.groupby('Sex')['Survived'].mean())\n",
    "\n",
    "# Survival rate by age groups\n",
    "print(titanic_data.groupby('AgeGroup')['Survived'].mean())\n"
   ]
  },
  {
   "attachments": {},
   "cell_type": "markdown",
   "id": "95c13c8e-c4b4-4e74-b6b9-8e20c61ddb0d",
   "metadata": {},
   "source": [
    "Q- Did family size impact survival chances?!"
   ]
  },
  {
   "cell_type": "code",
   "execution_count": 9,
   "id": "01b40a49-f94a-4819-bce3-64df3dfa11c9",
   "metadata": {},
   "outputs": [
    {
     "name": "stdout",
     "output_type": "stream",
     "text": [
      "FamilySize\n",
      "0     0.303538\n",
      "1     0.552795\n",
      "2     0.578431\n",
      "3     0.724138\n",
      "4     0.200000\n",
      "5     0.136364\n",
      "6     0.333333\n",
      "7     0.000000\n",
      "10    0.000000\n",
      "Name: Survived, dtype: float64\n"
     ]
    }
   ],
   "source": [
    "# Survival rate by family size\n",
    "print(titanic_data.groupby('FamilySize')['Survived'].mean())"
   ]
  },
  {
   "attachments": {},
   "cell_type": "markdown",
   "id": "fd6322fd-0391-41d3-804e-4f3982ec89fe",
   "metadata": {},
   "source": [
    "QQ- How did the point of embarkation relate to survival rates?"
   ]
  },
  {
   "cell_type": "code",
   "execution_count": 10,
   "id": "fb3b3655-eaf3-4fb5-b435-885a9896963d",
   "metadata": {},
   "outputs": [
    {
     "name": "stdout",
     "output_type": "stream",
     "text": [
      "Embarked\n",
      "C    0.553571\n",
      "Q    0.389610\n",
      "S    0.339009\n",
      "Name: Survived, dtype: float64\n"
     ]
    },
    {
     "name": "stderr",
     "output_type": "stream",
     "text": [
      "/tmp/ipykernel_3980/1260500636.py:2: FutureWarning: The default of observed=False is deprecated and will be changed to True in a future version of pandas. Pass observed=False to retain current behavior or observed=True to adopt the future default and silence this warning.\n",
      "  print(titanic_data.groupby('Embarked')['Survived'].mean())\n"
     ]
    }
   ],
   "source": [
    "# Survival rate by point of embarkation\n",
    "print(titanic_data.groupby('Embarked')['Survived'].mean())"
   ]
  },
  {
   "attachments": {},
   "cell_type": "markdown",
   "id": "0df14e6c-7695-40c6-b30d-60bb0cac71d3",
   "metadata": {},
   "source": [
    "Q- Was there a correlation between fare price and survival?!"
   ]
  },
  {
   "cell_type": "code",
   "execution_count": 11,
   "id": "deeabacf-ea69-43a6-882b-0c206a0e89c0",
   "metadata": {},
   "outputs": [
    {
     "name": "stdout",
     "output_type": "stream",
     "text": [
      "              Fare  Survived\n",
      "Fare      1.000000  0.257307\n",
      "Survived  0.257307  1.000000\n"
     ]
    }
   ],
   "source": [
    "# Correlation between fare and survival\n",
    "print(titanic_data[['Fare', 'Survived']].corr())"
   ]
  },
  {
   "attachments": {},
   "cell_type": "markdown",
   "id": "34d3c316-5549-42c9-89ce-6b7b9f63b4a4",
   "metadata": {},
   "source": [
    "Q- How did age and sex together influence survival odds?"
   ]
  },
  {
   "cell_type": "code",
   "execution_count": 12,
   "id": "18ad63d7-5413-4280-8c9f-7fc51e53c7a2",
   "metadata": {},
   "outputs": [
    {
     "name": "stdout",
     "output_type": "stream",
     "text": [
      "Sex     AgeGroup   \n",
      "female  Child          0.593750\n",
      "        Teenager       0.826087\n",
      "        Young Adult    0.730337\n",
      "        Adult          0.792208\n",
      "        Senior         1.000000\n",
      "male    Child          0.555556\n",
      "        Teenager       0.136364\n",
      "        Young Adult    0.156164\n",
      "        Adult          0.196970\n",
      "        Senior         0.095238\n",
      "Name: Survived, dtype: float64\n"
     ]
    },
    {
     "name": "stderr",
     "output_type": "stream",
     "text": [
      "/tmp/ipykernel_3980/2305371159.py:2: FutureWarning: The default of observed=False is deprecated and will be changed to True in a future version of pandas. Pass observed=False to retain current behavior or observed=True to adopt the future default and silence this warning.\n",
      "  print(titanic_data.groupby(['Sex', 'AgeGroup'])['Survived'].mean())\n"
     ]
    },
    {
     "ename": "KeyError",
     "evalue": "'Cabin'",
     "output_type": "error",
     "traceback": [
      "\u001b[0;31m---------------------------------------------------------------------------\u001b[0m",
      "\u001b[0;31mKeyError\u001b[0m                                  Traceback (most recent call last)",
      "File \u001b[0;32m~/.local/lib/python3.10/site-packages/pandas/core/indexes/base.py:3790\u001b[0m, in \u001b[0;36mIndex.get_loc\u001b[0;34m(self, key)\u001b[0m\n\u001b[1;32m   3789\u001b[0m \u001b[38;5;28;01mtry\u001b[39;00m:\n\u001b[0;32m-> 3790\u001b[0m     \u001b[38;5;28;01mreturn\u001b[39;00m \u001b[38;5;28;43mself\u001b[39;49m\u001b[38;5;241;43m.\u001b[39;49m\u001b[43m_engine\u001b[49m\u001b[38;5;241;43m.\u001b[39;49m\u001b[43mget_loc\u001b[49m\u001b[43m(\u001b[49m\u001b[43mcasted_key\u001b[49m\u001b[43m)\u001b[49m\n\u001b[1;32m   3791\u001b[0m \u001b[38;5;28;01mexcept\u001b[39;00m \u001b[38;5;167;01mKeyError\u001b[39;00m \u001b[38;5;28;01mas\u001b[39;00m err:\n",
      "File \u001b[0;32mindex.pyx:152\u001b[0m, in \u001b[0;36mpandas._libs.index.IndexEngine.get_loc\u001b[0;34m()\u001b[0m\n",
      "File \u001b[0;32mindex.pyx:181\u001b[0m, in \u001b[0;36mpandas._libs.index.IndexEngine.get_loc\u001b[0;34m()\u001b[0m\n",
      "File \u001b[0;32mpandas/_libs/hashtable_class_helper.pxi:7080\u001b[0m, in \u001b[0;36mpandas._libs.hashtable.PyObjectHashTable.get_item\u001b[0;34m()\u001b[0m\n",
      "File \u001b[0;32mpandas/_libs/hashtable_class_helper.pxi:7088\u001b[0m, in \u001b[0;36mpandas._libs.hashtable.PyObjectHashTable.get_item\u001b[0;34m()\u001b[0m\n",
      "\u001b[0;31mKeyError\u001b[0m: 'Cabin'",
      "\nThe above exception was the direct cause of the following exception:\n",
      "\u001b[0;31mKeyError\u001b[0m                                  Traceback (most recent call last)",
      "Cell \u001b[0;32mIn[12], line 4\u001b[0m\n\u001b[1;32m      2\u001b[0m \u001b[38;5;28mprint\u001b[39m(titanic_data\u001b[38;5;241m.\u001b[39mgroupby([\u001b[38;5;124m'\u001b[39m\u001b[38;5;124mSex\u001b[39m\u001b[38;5;124m'\u001b[39m, \u001b[38;5;124m'\u001b[39m\u001b[38;5;124mAgeGroup\u001b[39m\u001b[38;5;124m'\u001b[39m])[\u001b[38;5;124m'\u001b[39m\u001b[38;5;124mSurvived\u001b[39m\u001b[38;5;124m'\u001b[39m]\u001b[38;5;241m.\u001b[39mmean())\n\u001b[1;32m      3\u001b[0m \u001b[38;5;66;03m# Creating a new column 'CabinAvailable' indicating whether cabin information is available\u001b[39;00m\n\u001b[0;32m----> 4\u001b[0m titanic_data[\u001b[38;5;124m'\u001b[39m\u001b[38;5;124mCabinAvailable\u001b[39m\u001b[38;5;124m'\u001b[39m] \u001b[38;5;241m=\u001b[39m \u001b[43mtitanic_data\u001b[49m\u001b[43m[\u001b[49m\u001b[38;5;124;43m'\u001b[39;49m\u001b[38;5;124;43mCabin\u001b[39;49m\u001b[38;5;124;43m'\u001b[39;49m\u001b[43m]\u001b[49m\u001b[38;5;241m.\u001b[39mapply(\u001b[38;5;28;01mlambda\u001b[39;00m x: \u001b[38;5;241m0\u001b[39m \u001b[38;5;28;01mif\u001b[39;00m pd\u001b[38;5;241m.\u001b[39misnull(x) \u001b[38;5;28;01melse\u001b[39;00m \u001b[38;5;241m1\u001b[39m)\n",
      "File \u001b[0;32m~/.local/lib/python3.10/site-packages/pandas/core/frame.py:3893\u001b[0m, in \u001b[0;36mDataFrame.__getitem__\u001b[0;34m(self, key)\u001b[0m\n\u001b[1;32m   3891\u001b[0m \u001b[38;5;28;01mif\u001b[39;00m \u001b[38;5;28mself\u001b[39m\u001b[38;5;241m.\u001b[39mcolumns\u001b[38;5;241m.\u001b[39mnlevels \u001b[38;5;241m>\u001b[39m \u001b[38;5;241m1\u001b[39m:\n\u001b[1;32m   3892\u001b[0m     \u001b[38;5;28;01mreturn\u001b[39;00m \u001b[38;5;28mself\u001b[39m\u001b[38;5;241m.\u001b[39m_getitem_multilevel(key)\n\u001b[0;32m-> 3893\u001b[0m indexer \u001b[38;5;241m=\u001b[39m \u001b[38;5;28;43mself\u001b[39;49m\u001b[38;5;241;43m.\u001b[39;49m\u001b[43mcolumns\u001b[49m\u001b[38;5;241;43m.\u001b[39;49m\u001b[43mget_loc\u001b[49m\u001b[43m(\u001b[49m\u001b[43mkey\u001b[49m\u001b[43m)\u001b[49m\n\u001b[1;32m   3894\u001b[0m \u001b[38;5;28;01mif\u001b[39;00m is_integer(indexer):\n\u001b[1;32m   3895\u001b[0m     indexer \u001b[38;5;241m=\u001b[39m [indexer]\n",
      "File \u001b[0;32m~/.local/lib/python3.10/site-packages/pandas/core/indexes/base.py:3797\u001b[0m, in \u001b[0;36mIndex.get_loc\u001b[0;34m(self, key)\u001b[0m\n\u001b[1;32m   3792\u001b[0m     \u001b[38;5;28;01mif\u001b[39;00m \u001b[38;5;28misinstance\u001b[39m(casted_key, \u001b[38;5;28mslice\u001b[39m) \u001b[38;5;129;01mor\u001b[39;00m (\n\u001b[1;32m   3793\u001b[0m         \u001b[38;5;28misinstance\u001b[39m(casted_key, abc\u001b[38;5;241m.\u001b[39mIterable)\n\u001b[1;32m   3794\u001b[0m         \u001b[38;5;129;01mand\u001b[39;00m \u001b[38;5;28many\u001b[39m(\u001b[38;5;28misinstance\u001b[39m(x, \u001b[38;5;28mslice\u001b[39m) \u001b[38;5;28;01mfor\u001b[39;00m x \u001b[38;5;129;01min\u001b[39;00m casted_key)\n\u001b[1;32m   3795\u001b[0m     ):\n\u001b[1;32m   3796\u001b[0m         \u001b[38;5;28;01mraise\u001b[39;00m InvalidIndexError(key)\n\u001b[0;32m-> 3797\u001b[0m     \u001b[38;5;28;01mraise\u001b[39;00m \u001b[38;5;167;01mKeyError\u001b[39;00m(key) \u001b[38;5;28;01mfrom\u001b[39;00m \u001b[38;5;21;01merr\u001b[39;00m\n\u001b[1;32m   3798\u001b[0m \u001b[38;5;28;01mexcept\u001b[39;00m \u001b[38;5;167;01mTypeError\u001b[39;00m:\n\u001b[1;32m   3799\u001b[0m     \u001b[38;5;66;03m# If we have a listlike key, _check_indexing_error will raise\u001b[39;00m\n\u001b[1;32m   3800\u001b[0m     \u001b[38;5;66;03m#  InvalidIndexError. Otherwise we fall through and re-raise\u001b[39;00m\n\u001b[1;32m   3801\u001b[0m     \u001b[38;5;66;03m#  the TypeError.\u001b[39;00m\n\u001b[1;32m   3802\u001b[0m     \u001b[38;5;28mself\u001b[39m\u001b[38;5;241m.\u001b[39m_check_indexing_error(key)\n",
      "\u001b[0;31mKeyError\u001b[0m: 'Cabin'"
     ]
    }
   ],
   "source": [
    "# Survival rate by age and gender\n",
    "print(titanic_data.groupby(['Sex', 'AgeGroup'])['Survived'].mean())\n",
    "# Creating a new column 'CabinAvailable' indicating whether cabin information is available\n",
    "titanic_data['CabinAvailable'] = titanic_data['Cabin'].apply(lambda x: 0 if pd.isnull(x) else 1)\n"
   ]
  },
  {
   "attachments": {},
   "cell_type": "markdown",
   "id": "b9e75631-b15c-47da-9120-6cc190f03dd5",
   "metadata": {},
   "source": [
    "Q- Did the presence of cabins (cabin data availability) affect survival rates?"
   ]
  },
  {
   "cell_type": "code",
   "execution_count": null,
   "id": "d3d95a36-1bb6-42a5-8b22-7aaa085b1492",
   "metadata": {},
   "outputs": [],
   "source": [
    "# Survival rate based on cabin availability\n",
    "print(titanic_data.groupby('CabinAvailable')['Survived'].mean())"
   ]
  },
  {
   "cell_type": "markdown",
   "id": "21bb3252-d265-4061-bf60-155243dceca0",
   "metadata": {},
   "source": [
    "Q- What was the distribution of passengers by age, gender, and class?"
   ]
  },
  {
   "cell_type": "code",
   "execution_count": null,
   "id": "52266327-7dab-4365-9563-6b41068b8c37",
   "metadata": {},
   "outputs": [],
   "source": [
    "# Distribution of passengers by age\n",
    "print(titanic_data['AgeGroup'].value_counts())\n",
    "\n",
    "# Distribution of passengers by gender\n",
    "print(titanic_data['Sex'].value_counts())\n",
    "\n",
    "# Distribution of passengers by class\n",
    "print(titanic_data['Pclass'].value_counts())\n"
   ]
  },
  {
   "cell_type": "markdown",
   "id": "cfc73813-f2fa-4cfd-b1c4-264c8efbac55",
   "metadata": {},
   "source": [
    "In-depth analysis\n",
    "\n",
    "Data cleaning also involves feature engineering, where new relevant features are created from existing data. An example is creating a 'FamilySize' feature by summing 'SibSp' (number of siblings/spouses aboard) and 'Parch' (number of parents/children aboard).\n",
    "The cleaned and preprocessed dataset is then ready for exploratory data analysis, where we can delve deeper into understanding the relationships between different variables and their impact on survival rates. This preparatory step is crucial for any subsequent statistical analysis or predictive modeling.\n",
    "\n",
    "1.\tDataset Composition: The dataset contains 891 entries with 12 columns. These columns are Passenger, Survived, Pclass (Passenger Class), Name, Sex, Age, SibSp (Siblings/Spouses Aboard), Parch (Parents/Children Aboard), Ticket, Fare, Cabin, and Embarked (Port of Embarkation).\n",
    "2.\tMissing Values: There are missing values in the Age, Cabin, and Embarked columns. Specifically:\n",
    "•\tAge has 714 out of 891 non-null entries, suggesting a need for imputation or handling of missing data.\n",
    "•\tCabin has a significant amount of missing data, with only 204 non-null entries. This might limit its use in analysis unless the missing data is addressed.\n",
    "•\tEmbarked has 889 non-null entries, indicating only a few missing values.\n",
    "3.\tStatistical Overview:\n",
    "•\tSurvived: The mean survival rate is approximately 38.4%, indicating that less than half of the passengers in this dataset survived.\n",
    "•\tPclass: The mean passenger class is around 2.3, suggesting a slightly higher number of passengers in the lower classes (2nd and 3rd).\n",
    "•\tAge: The average age of passengers is about 29.7 years, with a standard deviation of 14.5 years. The age range is broad, from 0.42 to 80 years.\n",
    "•\tSibSp and Parch: Most passengers did not travel with siblings, spouses, parents, or children. This suggests that a large number of passengers were traveling alone.\n",
    "•\tFare: There is a wide range in ticket fares, from 0 to 512.33, with a mean fare of about 32.20. This variation in fare might correlate with passenger class.\n"
   ]
  },
  {
   "cell_type": "markdown",
   "id": "c6656d3d-0e1e-4376-a473-831eabb0aaac",
   "metadata": {},
   "source": [
    "Conclusion\n",
    "The analysis of the Titanic dataset provides insightful revelations about the socio-economic and demographic factors influencing survival rates during the tragic maritime disaster. Key findings indicate that passenger class had a significant impact on survival chances, with first-class passengers enjoying higher survival rates, likely due to better access to lifeboats and emergency resources. Gender played a crucial role, as women had markedly higher survival rates, reflecting the era's societal norms and the \"women and children first\" policy during the evacuation process.\n",
    "Age was another determining factor, where children and younger passengers had a higher likelihood of survival compared to older passengers. This could be attributed to prioritization in rescue efforts. Family size also influenced survival odds, with those having small to medium-sized families faring better than those traveling alone or with large families.\n",
    "Additionally, the fare paid and embarkation point emerged as significant variables, suggesting a link between economic status, point of origin, and survival probability.\n",
    "These insights not only shed light on the human aspects of the Titanic disaster but also illustrate broader social themes of inequality and privilege. The analysis serves as a poignant reminder of how, even in times of crisis, social hierarchies and human biases can profoundly impact outcomes\n"
   ]
  },
  {
   "cell_type": "code",
   "execution_count": null,
   "id": "aafc2fc4-55fc-47cf-b0e1-56a48391ca91",
   "metadata": {},
   "outputs": [],
   "source": []
  }
 ],
 "metadata": {
  "kernelspec": {
   "display_name": "Python 3 (ipykernel)",
   "language": "python",
   "name": "python3"
  },
  "language_info": {
   "codemirror_mode": {
    "name": "ipython",
    "version": 3
   },
   "file_extension": ".py",
   "mimetype": "text/x-python",
   "name": "python",
   "nbconvert_exporter": "python",
   "pygments_lexer": "ipython3",
   "version": "3.10.13"
  }
 },
 "nbformat": 4,
 "nbformat_minor": 5
}
